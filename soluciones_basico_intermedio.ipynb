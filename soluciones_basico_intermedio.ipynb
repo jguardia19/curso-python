{
 "cells": [
  {
   "cell_type": "markdown",
   "id": "7592622f",
   "metadata": {},
   "source": [
    "# ✅ Soluciones de Python (Básico e Intermedio)"
   ]
  },
  {
   "cell_type": "markdown",
   "id": "8cc9699f",
   "metadata": {},
   "source": [
    "## 🟢 Nivel Básico"
   ]
  },
  {
   "cell_type": "code",
   "execution_count": null,
   "id": "c565122d",
   "metadata": {},
   "outputs": [],
   "source": [
    "a, b = 10, 3\n",
    "print(a + b, a - b, a * b, a / b)"
   ]
  },
  {
   "cell_type": "code",
   "execution_count": null,
   "id": "5c5f0c82",
   "metadata": {},
   "outputs": [],
   "source": [
    "n = int(input(\"Número: \"))\n",
    "print(\"Par\" if n % 2 == 0 else \"Impar\")"
   ]
  },
  {
   "cell_type": "code",
   "execution_count": null,
   "id": "34c4f19d",
   "metadata": {},
   "outputs": [],
   "source": [
    "for i in range(1, 11):\n",
    "    print(i)"
   ]
  },
  {
   "cell_type": "code",
   "execution_count": null,
   "id": "d29d0a76",
   "metadata": {},
   "outputs": [],
   "source": [
    "frutas = ['manzana', 'banana', 'pera', 'naranja', 'kiwi']\n",
    "frutas.append('uva')\n",
    "frutas.remove('banana')\n",
    "print(frutas)"
   ]
  },
  {
   "cell_type": "code",
   "execution_count": null,
   "id": "a7f90475",
   "metadata": {},
   "outputs": [],
   "source": [
    "def saludar(nombre):\n",
    "    return f\"Hola, {nombre}\"\n",
    "print(saludar(\"Luis\"))"
   ]
  },
  {
   "cell_type": "code",
   "execution_count": null,
   "id": "20a6dcf0",
   "metadata": {},
   "outputs": [],
   "source": [
    "persona = {'nombre': 'Ana', 'edad': 25, 'ciudad': 'Lima'}\n",
    "for k, v in persona.items():\n",
    "    print(k, v)"
   ]
  },
  {
   "cell_type": "code",
   "execution_count": null,
   "id": "2ca36f18",
   "metadata": {},
   "outputs": [],
   "source": [
    "cuadrados = [x**2 for x in range(1, 11)]\n",
    "print(cuadrados)"
   ]
  },
  {
   "cell_type": "markdown",
   "id": "35085e55",
   "metadata": {},
   "source": [
    "## 🟡 Nivel Intermedio"
   ]
  },
  {
   "cell_type": "code",
   "execution_count": null,
   "id": "5d959502",
   "metadata": {},
   "outputs": [],
   "source": [
    "try:\n",
    "    a, b = 5, 0\n",
    "    print(a / b)\n",
    "except ZeroDivisionError:\n",
    "    print(\"Error: división por cero\")"
   ]
  },
  {
   "cell_type": "code",
   "execution_count": null,
   "id": "10e4124a",
   "metadata": {},
   "outputs": [],
   "source": [
    "def suma(a, b=0):\n",
    "    return a + b\n",
    "print(suma(5))"
   ]
  },
  {
   "cell_type": "code",
   "execution_count": null,
   "id": "2baaabcb",
   "metadata": {},
   "outputs": [],
   "source": [
    "numeros = [1, 2, 3, 4, 5]\n",
    "cubos = list(map(lambda x: x**3, numeros))\n",
    "print(cubos)"
   ]
  },
  {
   "cell_type": "code",
   "execution_count": null,
   "id": "22f858cb",
   "metadata": {},
   "outputs": [],
   "source": [
    "class Producto:\n",
    "    def __init__(self, nombre, precio):\n",
    "        self.nombre = nombre\n",
    "        self.precio = precio\n",
    "    def precio_con_iva(self):\n",
    "        return self.precio * 1.18\n",
    "p = Producto(\"Laptop\", 1000)\n",
    "print(p.precio_con_iva())"
   ]
  },
  {
   "cell_type": "code",
   "execution_count": null,
   "id": "c807d72f",
   "metadata": {},
   "outputs": [],
   "source": [
    "with open(\"archivo.txt\", \"w\") as f:\n",
    "    f.writelines([\"Línea 1\\n\", \"Línea 2\\n\", \"Línea 3\\n\"])\n",
    "with open(\"archivo.txt\", \"r\") as f:\n",
    "    print(f.read())"
   ]
  },
  {
   "cell_type": "code",
   "execution_count": null,
   "id": "8900cb1d",
   "metadata": {},
   "outputs": [],
   "source": [
    "nombres = ['ana', 'luis', 'carla']\n",
    "mayus = list(map(str.upper, nombres))\n",
    "print(mayus)\n",
    "numeros = [5, 12, 18, 7]\n",
    "mayores = list(filter(lambda x: x > 10, numeros))\n",
    "print(mayores)"
   ]
  },
  {
   "cell_type": "code",
   "execution_count": null,
   "id": "cb0a000d",
   "metadata": {},
   "outputs": [],
   "source": [
    "listas = [[1,2,3], [4,5], [6,7,8]]\n",
    "for l in listas:\n",
    "    print(sum(l))"
   ]
  }
 ],
 "metadata": {},
 "nbformat": 4,
 "nbformat_minor": 5
}