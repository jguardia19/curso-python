{
 "cells": [
  {
   "cell_type": "markdown",
   "id": "8856cf9c",
   "metadata": {},
   "source": [
    "# 🕵️‍♂️ Enmascaramiento de Información Personal (PII) en un DataFrame con Pandas"
   ]
  },
  {
   "cell_type": "markdown",
   "id": "08fd000f",
   "metadata": {},
   "source": [
    "\n",
    "Este notebook te muestra cómo detectar y enmascarar datos sensibles o **PII (Personal Identifiable Information)** en columnas de texto de un DataFrame:\n",
    "\n",
    "- Correos electrónicos → `[EMAIL]`\n",
    "- Teléfonos → `[TEL]`\n",
    "- Nombres propios (simplificado) → `[NOMBRE]`\n"
   ]
  },
  {
   "cell_type": "markdown",
   "id": "edbeb9d9",
   "metadata": {},
   "source": [
    "## 📋 1. Crear un DataFrame de ejemplo"
   ]
  },
  {
   "cell_type": "code",
   "execution_count": null,
   "id": "4875c93a",
   "metadata": {},
   "outputs": [],
   "source": [
    "\n",
    "import pandas as pd\n",
    "\n",
    "df = pd.DataFrame({\n",
    "    'texto': [\n",
    "        \"Mi nombre es Ana y mi email es ana.gomez@gmail.com\",\n",
    "        \"Puedes llamarme al 5512345678 o al 55-1234-5678\",\n",
    "        \"Luis me escribió desde luis123@hotmail.com\",\n",
    "        \"Carlos tiene otro correo: carlos_87@empresa.mx y su cel 555-987-6543\",\n",
    "        \"Hola, soy MARÍA. Mi teléfono es (55) 8888 9999 y correo maria@dominio.org\"\n",
    "    ]\n",
    "})\n",
    "\n",
    "df\n"
   ]
  },
  {
   "cell_type": "markdown",
   "id": "7710df4b",
   "metadata": {},
   "source": [
    "## 🔐 2. Función para enmascarar PII"
   ]
  },
  {
   "cell_type": "code",
   "execution_count": null,
   "id": "187f7499",
   "metadata": {},
   "outputs": [],
   "source": [
    "\n",
    "import re\n",
    "\n",
    "def enmascarar_pii(texto):\n",
    "    if pd.isnull(texto):\n",
    "        return texto\n",
    "\n",
    "    # Enmascarar correos electrónicos\n",
    "    texto = re.sub(r'\\b[A-Za-z0-9._%+-]+@[A-Za-z0-9.-]+\\.[A-Z|a-z]{2,}\\b', '[EMAIL]', texto)\n",
    "\n",
    "    # Enmascarar teléfonos (varios formatos)\n",
    "    texto = re.sub(r'(\\(?\\+?\\d{1,3}\\)?[-.\\s]?)?(\\(?\\d{2,3}\\)?[-.\\s]?\\d{4,5}[-.\\s]?\\d{4})', '[TEL]', texto)\n",
    "\n",
    "    # Enmascarar nombres propios simples (inicial mayúscula y no al inicio de oración)\n",
    "    texto = re.sub(r'(?<!\\w)([A-ZÁÉÍÓÚÑ][a-záéíóúñ]{2,})(?!\\w)', '[NOMBRE]', texto)\n",
    "\n",
    "    return texto\n"
   ]
  },
  {
   "cell_type": "markdown",
   "id": "8c567c06",
   "metadata": {},
   "source": [
    "## 🧪 3. Aplicar enmascaramiento al DataFrame"
   ]
  },
  {
   "cell_type": "code",
   "execution_count": null,
   "id": "fd50306a",
   "metadata": {},
   "outputs": [],
   "source": [
    "\n",
    "df['texto_enmascarado'] = df['texto'].apply(enmascarar_pii)\n",
    "df\n"
   ]
  }
 ],
 "metadata": {},
 "nbformat": 4,
 "nbformat_minor": 5
}