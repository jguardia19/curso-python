{
  "cells": [
    {
      "cell_type": "markdown",
      "metadata": {},
      "source": [
        "# 🧠 Análisis Avanzado de Ventas con Pandas\n",
        "\n",
        "Este notebook incluye técnicas más avanzadas de análisis de datos, como detección de outliers, uso de `apply()` y funciones `lambda`, y análisis multivariado sobre el archivo de ventas."
      ]
    },
    {
      "cell_type": "code",
      "execution_count": null,
      "metadata": {},
      "outputs": [],
      "source": [
        "import pandas as pd\n",
        "import numpy as np\n",
        "import matplotlib.pyplot as plt\n",
        "\n",
        "# Cargar archivo CSV\n",
        "df = pd.read_csv('ventas_prueba_pandas.csv', parse_dates=['Fecha'])"
      ]
    },
    {
      "cell_type": "markdown",
      "metadata": {},
      "source": [
        "## 🔍 1. Detección de outliers con regla de 1.5 * IQR"
      ]
    },
    {
      "cell_type": "code",
      "execution_count": null,
      "metadata": {},
      "outputs": [],
      "source": [
        "# Calcular IQR para Total\n",
        "Q1 = df['Total'].quantile(0.25)\n",
        "Q3 = df['Total'].quantile(0.75)\n",
        "IQR = Q3 - Q1\n",
        "limite_superior = Q3 + 1.5 * IQR\n",
        "limite_inferior = Q1 - 1.5 * IQR\n",
        "\n",
        "# Filtrar outliers\n",
        "outliers = df[(df['Total'] > limite_superior) | (df['Total'] < limite_inferior)]\n",
        "print(f'Total de outliers detectados: {len(outliers)}')\n",
        "outliers.head()"
      ]
    },
    {
      "cell_type": "markdown",
      "metadata": {},
      "source": [
        "## 🛠️ 2. Crear nuevas variables con `apply()` y `lambda`"
      ]
    },
    {
      "cell_type": "code",
      "execution_count": null,
      "metadata": {},
      "outputs": [],
      "source": [
        "# Categorizar monto total\n",
        "df['Segmento'] = df['Total'].apply(lambda x: 'Bajo' if x < 500 else ('Medio' if x < 1000 else 'Alto'))\n",
        "df['Dia'] = df['Fecha'].dt.day_name(locale='es')\n",
        "df[['Total', 'Segmento', 'Dia']].head()"
      ]
    },
    {
      "cell_type": "markdown",
      "metadata": {},
      "source": [
        "## 📊 3. Análisis multivariado: producto vs ciudad vs segmento"
      ]
    },
    {
      "cell_type": "code",
      "execution_count": null,
      "metadata": {},
      "outputs": [],
      "source": [
        "pivot = pd.pivot_table(df, values='Total', index='Producto', columns='Ciudad', aggfunc='sum')\n",
        "pivot.plot(kind='bar', figsize=(10,6), title='Total de Ventas por Producto y Ciudad')\n",
        "plt.ylabel('USD')\n",
        "plt.grid(True)\n",
        "plt.tight_layout()\n",
        "plt.show()"
      ]
    },
    {
      "cell_type": "markdown",
      "metadata": {},
      "source": [
        "## 🧮 4. Ventas por día de la semana y segmento"
      ]
    },
    {
      "cell_type": "code",
      "execution_count": null,
      "metadata": {},
      "outputs": [],
      "source": [
        "resumen_segmento = df.groupby(['Dia', 'Segmento'])['Total'].sum().unstack().fillna(0)\n",
        "resumen_segmento = resumen_segmento.reindex(['lunes', 'martes', 'miércoles', 'jueves', 'viernes', 'sábado', 'domingo'])\n",
        "resumen_segmento.plot(kind='bar', stacked=True, figsize=(10,6), title='Ventas por Día y Segmento')\n",
        "plt.ylabel('USD')\n",
        "plt.xticks(rotation=45)\n",
        "plt.grid(True)\n",
        "plt.tight_layout()\n",
        "plt.show()"
      ]
    }
  ],
  "metadata": {
    "kernelspec": {
      "display_name": "Python 3",
      "language": "python",
      "name": "python3"
    },
    "language_info": {
      "name": "python",
      "version": "3.10"
    }
  },
  "nbformat": 4,
  "nbformat_minor": 5
}