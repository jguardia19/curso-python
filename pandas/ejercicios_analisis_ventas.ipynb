{
  "cells": [
    {
      "cell_type": "markdown",
      "metadata": {},
      "source": [
        "# 📊 Análisis de Ventas con Pandas\n",
        "\n",
        "Este notebook usa un archivo con más de 4000 registros de ventas simuladas para practicar filtrado, agrupación, visualización y limpieza de datos con Pandas."
      ]
    },
    {
      "cell_type": "code",
      "execution_count": null,
      "metadata": {},
      "outputs": [],
      "source": [
        "import pandas as pd\n",
        "import matplotlib.pyplot as plt\n",
        "\n",
        "# Leer archivo CSV de ventas\n",
        "df = pd.read_csv('ventas_prueba_pandas.csv', parse_dates=['Fecha'])\n",
        "df.head()"
      ]
    },
    {
      "cell_type": "markdown",
      "metadata": {},
      "source": [
        "## 🔹 1. Información general del dataset"
      ]
    },
    {
      "cell_type": "code",
      "execution_count": null,
      "metadata": {},
      "outputs": [],
      "source": [
        "df.info()\n",
        "df.describe()"
      ]
    },
    {
      "cell_type": "markdown",
      "metadata": {},
      "source": [
        "## 🔹 2. Ventas totales por producto"
      ]
    },
    {
      "cell_type": "code",
      "execution_count": null,
      "metadata": {},
      "outputs": [],
      "source": [
        "ventas_por_producto = df.groupby('Producto')['Total'].sum().sort_values(ascending=False)\n",
        "ventas_por_producto.plot(kind='bar', title='Ventas Totales por Producto', ylabel='USD', xlabel='Producto', figsize=(8,5), color='skyblue')\n",
        "plt.grid(True)\n",
        "plt.tight_layout()\n",
        "plt.show()"
      ]
    },
    {
      "cell_type": "markdown",
      "metadata": {},
      "source": [
        "## 🔹 3. Ventas por ciudad"
      ]
    },
    {
      "cell_type": "code",
      "execution_count": null,
      "metadata": {},
      "outputs": [],
      "source": [
        "df.groupby('Ciudad')['Total'].sum().sort_values(ascending=False).plot(\n",
        "    kind='bar', title='Ventas por Ciudad', figsize=(8,5), color='lightgreen')\n",
        "plt.ylabel('USD')\n",
        "plt.grid(True)\n",
        "plt.show()"
      ]
    },
    {
      "cell_type": "markdown",
      "metadata": {},
      "source": [
        "## 🔹 4. Evolución mensual de las ventas"
      ]
    },
    {
      "cell_type": "code",
      "execution_count": null,
      "metadata": {},
      "outputs": [],
      "source": [
        "df['Mes'] = df['Fecha'].dt.to_period('M')\n",
        "ventas_mensuales = df.groupby('Mes')['Total'].sum()\n",
        "ventas_mensuales.plot(kind='line', marker='o', title='Ventas Mensuales', figsize=(9,5))\n",
        "plt.ylabel('USD')\n",
        "plt.grid(True)\n",
        "plt.show()"
      ]
    },
    {
      "cell_type": "markdown",
      "metadata": {},
      "source": [
        "## 🔹 5. Top 10 clientes que más compraron"
      ]
    },
    {
      "cell_type": "code",
      "execution_count": null,
      "metadata": {},
      "outputs": [],
      "source": [
        "top_clientes = df.groupby('Cliente')['Total'].sum().sort_values(ascending=False).head(10)\n",
        "top_clientes.plot(kind='bar', figsize=(8,5), title='Top 10 Clientes por Monto Total')\n",
        "plt.ylabel('USD')\n",
        "plt.xticks(rotation=45)\n",
        "plt.tight_layout()\n",
        "plt.show()"
      ]
    }
  ],
  "metadata": {
    "kernelspec": {
      "display_name": "Python 3",
      "language": "python",
      "name": "python3"
    },
    "language_info": {
      "name": "python",
      "version": "3.10"
    }
  },
  "nbformat": 4,
  "nbformat_minor": 5
}