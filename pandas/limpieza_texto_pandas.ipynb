{
 "cells": [
  {
   "cell_type": "markdown",
   "id": "4509a8c9",
   "metadata": {},
   "source": [
    "# ✨ Limpieza y Normalización de Texto con Pandas"
   ]
  },
  {
   "cell_type": "markdown",
   "id": "7d3d75b0",
   "metadata": {},
   "source": [
    "\n",
    "Este notebook muestra cómo limpiar y normalizar texto en un DataFrame con `pandas`, incluyendo:\n",
    "- Capitalización de nombres\n",
    "- Formato de ciudad\n",
    "- Limpieza de comentarios\n",
    "- Normalización de correos electrónicos\n"
   ]
  },
  {
   "cell_type": "markdown",
   "id": "311697e3",
   "metadata": {},
   "source": [
    "## 📋 1. Crear DataFrame de ejemplo"
   ]
  },
  {
   "cell_type": "code",
   "execution_count": null,
   "id": "fe96c70f",
   "metadata": {},
   "outputs": [],
   "source": [
    "\n",
    "import pandas as pd\n",
    "\n",
    "df = pd.DataFrame({\n",
    "    'nombre': ['ana', 'LUIS', 'CARLOS', 'maria'],\n",
    "    'ciudad': ['MÉXICO', 'lima', 'BoGoTá', 'Buenos Aires'],\n",
    "    'comentario': [' EXCELENTE SERVICIO ', 'muy BUENO', 'Rápido y eficaz ', ' OK  '],\n",
    "    'email': [' ANA@GMAIL.COM ', 'luis@HOTMAIL.com', ' carlos@outlook.COM', 'MARIA@yahoo.COM ']\n",
    "})\n",
    "\n",
    "df\n"
   ]
  },
  {
   "cell_type": "markdown",
   "id": "00d78739",
   "metadata": {},
   "source": [
    "## 🔤 2. Normalizar mayúsculas/minúsculas"
   ]
  },
  {
   "cell_type": "code",
   "execution_count": null,
   "id": "47ff670c",
   "metadata": {},
   "outputs": [],
   "source": [
    "\n",
    "df['nombre'] = df['nombre'].str.capitalize()\n",
    "df['ciudad'] = df['ciudad'].str.title()\n",
    "df['comentario'] = df['comentario'].str.lower()\n",
    "\n",
    "df\n"
   ]
  },
  {
   "cell_type": "markdown",
   "id": "ea492eee",
   "metadata": {},
   "source": [
    "## 📧 3. Normalizar correos electrónicos"
   ]
  },
  {
   "cell_type": "code",
   "execution_count": null,
   "id": "4102dbaf",
   "metadata": {},
   "outputs": [],
   "source": [
    "\n",
    "df['email'] = df['email'].str.strip().str.lower()\n",
    "\n",
    "df\n"
   ]
  },
  {
   "cell_type": "markdown",
   "id": "a5114a66",
   "metadata": {},
   "source": [
    "## 🔍 4. Eliminar espacios innecesarios"
   ]
  },
  {
   "cell_type": "code",
   "execution_count": null,
   "id": "1fd62d0d",
   "metadata": {},
   "outputs": [],
   "source": [
    "\n",
    "df['comentario'] = df['comentario'].str.strip()\n",
    "\n",
    "df\n"
   ]
  }
 ],
 "metadata": {},
 "nbformat": 4,
 "nbformat_minor": 5
}