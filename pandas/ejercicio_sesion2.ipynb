{
 "cells": [
  {
   "cell_type": "code",
   "execution_count": 1,
   "id": "8936a0d0",
   "metadata": {},
   "outputs": [
    {
     "name": "stdout",
     "output_type": "stream",
     "text": [
      "Requirement already satisfied: pandas in c:\\users\\supernova dev 2\\appdata\\local\\programs\\python\\python313\\lib\\site-packages (2.3.2)\n",
      "Collecting openpyxl\n",
      "  Using cached openpyxl-3.1.5-py2.py3-none-any.whl.metadata (2.5 kB)\n",
      "Requirement already satisfied: numpy>=1.26.0 in c:\\users\\supernova dev 2\\appdata\\local\\programs\\python\\python313\\lib\\site-packages (from pandas) (2.3.2)\n",
      "Requirement already satisfied: python-dateutil>=2.8.2 in c:\\users\\supernova dev 2\\appdata\\local\\programs\\python\\python313\\lib\\site-packages (from pandas) (2.9.0.post0)\n",
      "Requirement already satisfied: pytz>=2020.1 in c:\\users\\supernova dev 2\\appdata\\local\\programs\\python\\python313\\lib\\site-packages (from pandas) (2025.2)\n",
      "Requirement already satisfied: tzdata>=2022.7 in c:\\users\\supernova dev 2\\appdata\\local\\programs\\python\\python313\\lib\\site-packages (from pandas) (2025.2)\n",
      "Collecting et-xmlfile (from openpyxl)\n",
      "  Using cached et_xmlfile-2.0.0-py3-none-any.whl.metadata (2.7 kB)\n",
      "Requirement already satisfied: six>=1.5 in c:\\users\\supernova dev 2\\appdata\\local\\programs\\python\\python313\\lib\\site-packages (from python-dateutil>=2.8.2->pandas) (1.17.0)\n",
      "Using cached openpyxl-3.1.5-py2.py3-none-any.whl (250 kB)\n",
      "Using cached et_xmlfile-2.0.0-py3-none-any.whl (18 kB)\n",
      "Installing collected packages: et-xmlfile, openpyxl\n",
      "Successfully installed et-xmlfile-2.0.0 openpyxl-3.1.5\n"
     ]
    },
    {
     "name": "stderr",
     "output_type": "stream",
     "text": [
      "\n",
      "[notice] A new release of pip is available: 25.0.1 -> 25.2\n",
      "[notice] To update, run: C:\\Users\\Supernova dev 2\\AppData\\Local\\Programs\\Python\\Python313\\python.exe -m pip install --upgrade pip\n"
     ]
    }
   ],
   "source": [
    "!pip install pandas openpyxl\n",
    "\n"
   ]
  },
  {
   "cell_type": "code",
   "execution_count": 7,
   "id": "eeac4631",
   "metadata": {},
   "outputs": [
    {
     "data": {
      "text/html": [
       "<div>\n",
       "<style scoped>\n",
       "    .dataframe tbody tr th:only-of-type {\n",
       "        vertical-align: middle;\n",
       "    }\n",
       "\n",
       "    .dataframe tbody tr th {\n",
       "        vertical-align: top;\n",
       "    }\n",
       "\n",
       "    .dataframe thead th {\n",
       "        text-align: right;\n",
       "    }\n",
       "</style>\n",
       "<table border=\"1\" class=\"dataframe\">\n",
       "  <thead>\n",
       "    <tr style=\"text-align: right;\">\n",
       "      <th></th>\n",
       "      <th>id</th>\n",
       "      <th>texto</th>\n",
       "      <th>fecha</th>\n",
       "    </tr>\n",
       "  </thead>\n",
       "  <tbody>\n",
       "    <tr>\n",
       "      <th>0</th>\n",
       "      <td>1</td>\n",
       "      <td>Cliente: Carlos GarcÃ­a. Tel: 3004567890. Vive...</td>\n",
       "      <td>2023-01-10</td>\n",
       "    </tr>\n",
       "    <tr>\n",
       "      <th>1</th>\n",
       "      <td>2</td>\n",
       "      <td>Cliente: Juan PÃ©rez. Tel: 3123456789. Vive en...</td>\n",
       "      <td>2023-01-11</td>\n",
       "    </tr>\n",
       "    <tr>\n",
       "      <th>2</th>\n",
       "      <td>3</td>\n",
       "      <td>Cliente: MarÃ­a LÃ³pez. Tel: 3111234567. Vive ...</td>\n",
       "      <td>2023-01-12</td>\n",
       "    </tr>\n",
       "    <tr>\n",
       "      <th>3</th>\n",
       "      <td>4</td>\n",
       "      <td>Cliente: Pedro Mendoza. Tel: 3004567890. Vive ...</td>\n",
       "      <td>2023-01-13</td>\n",
       "    </tr>\n",
       "    <tr>\n",
       "      <th>4</th>\n",
       "      <td>5</td>\n",
       "      <td>Cliente: MarÃ­a LÃ³pez. Tel: 3209988776. Vive ...</td>\n",
       "      <td>2023-01-14</td>\n",
       "    </tr>\n",
       "  </tbody>\n",
       "</table>\n",
       "</div>"
      ],
      "text/plain": [
       "   id                                              texto      fecha\n",
       "0   1  Cliente: Carlos GarcÃ­a. Tel: 3004567890. Vive... 2023-01-10\n",
       "1   2  Cliente: Juan PÃ©rez. Tel: 3123456789. Vive en... 2023-01-11\n",
       "2   3  Cliente: MarÃ­a LÃ³pez. Tel: 3111234567. Vive ... 2023-01-12\n",
       "3   4  Cliente: Pedro Mendoza. Tel: 3004567890. Vive ... 2023-01-13\n",
       "4   5  Cliente: MarÃ­a LÃ³pez. Tel: 3209988776. Vive ... 2023-01-14"
      ]
     },
     "execution_count": 7,
     "metadata": {},
     "output_type": "execute_result"
    }
   ],
   "source": [
    "import pandas as pd\n",
    "df = pd.read_excel('ejercicio_sesion2.xlsx')\n",
    "df.head()"
   ]
  },
  {
   "cell_type": "code",
   "execution_count": null,
   "id": "00c5d06b",
   "metadata": {},
   "outputs": [],
   "source": []
  },
  {
   "cell_type": "code",
   "execution_count": 11,
   "id": "89e9ec8b",
   "metadata": {},
   "outputs": [
    {
     "data": {
      "text/html": [
       "<div>\n",
       "<style scoped>\n",
       "    .dataframe tbody tr th:only-of-type {\n",
       "        vertical-align: middle;\n",
       "    }\n",
       "\n",
       "    .dataframe tbody tr th {\n",
       "        vertical-align: top;\n",
       "    }\n",
       "\n",
       "    .dataframe thead th {\n",
       "        text-align: right;\n",
       "    }\n",
       "</style>\n",
       "<table border=\"1\" class=\"dataframe\">\n",
       "  <thead>\n",
       "    <tr style=\"text-align: right;\">\n",
       "      <th></th>\n",
       "      <th>id</th>\n",
       "      <th>texto</th>\n",
       "      <th>fecha</th>\n",
       "      <th>columna_corregida</th>\n",
       "    </tr>\n",
       "  </thead>\n",
       "  <tbody>\n",
       "    <tr>\n",
       "      <th>0</th>\n",
       "      <td>1</td>\n",
       "      <td>Cliente: Carlos García. Tel: 3004567890. Vive ...</td>\n",
       "      <td>2023-01-10</td>\n",
       "      <td>Cliente: Carlos García. Tel: 3004567890. Vive ...</td>\n",
       "    </tr>\n",
       "    <tr>\n",
       "      <th>1</th>\n",
       "      <td>2</td>\n",
       "      <td>Cliente: Juan Pérez. Tel: 3123456789. Vive en ...</td>\n",
       "      <td>2023-01-11</td>\n",
       "      <td>Cliente: Juan Pérez. Tel: 3123456789. Vive en ...</td>\n",
       "    </tr>\n",
       "    <tr>\n",
       "      <th>2</th>\n",
       "      <td>3</td>\n",
       "      <td>Cliente: María López. Tel: 3111234567. Vive en...</td>\n",
       "      <td>2023-01-12</td>\n",
       "      <td>Cliente: María López. Tel: 3111234567. Vive en...</td>\n",
       "    </tr>\n",
       "    <tr>\n",
       "      <th>3</th>\n",
       "      <td>4</td>\n",
       "      <td>Cliente: Pedro Mendoza. Tel: 3004567890. Vive ...</td>\n",
       "      <td>2023-01-13</td>\n",
       "      <td>Cliente: Pedro Mendoza. Tel: 3004567890. Vive ...</td>\n",
       "    </tr>\n",
       "    <tr>\n",
       "      <th>4</th>\n",
       "      <td>5</td>\n",
       "      <td>Cliente: María López. Tel: 3209988776. Vive en...</td>\n",
       "      <td>2023-01-14</td>\n",
       "      <td>Cliente: María López. Tel: 3209988776. Vive en...</td>\n",
       "    </tr>\n",
       "  </tbody>\n",
       "</table>\n",
       "</div>"
      ],
      "text/plain": [
       "   id                                              texto      fecha  \\\n",
       "0   1  Cliente: Carlos García. Tel: 3004567890. Vive ... 2023-01-10   \n",
       "1   2  Cliente: Juan Pérez. Tel: 3123456789. Vive en ... 2023-01-11   \n",
       "2   3  Cliente: María López. Tel: 3111234567. Vive en... 2023-01-12   \n",
       "3   4  Cliente: Pedro Mendoza. Tel: 3004567890. Vive ... 2023-01-13   \n",
       "4   5  Cliente: María López. Tel: 3209988776. Vive en... 2023-01-14   \n",
       "\n",
       "                                   columna_corregida  \n",
       "0  Cliente: Carlos García. Tel: 3004567890. Vive ...  \n",
       "1  Cliente: Juan Pérez. Tel: 3123456789. Vive en ...  \n",
       "2  Cliente: María López. Tel: 3111234567. Vive en...  \n",
       "3  Cliente: Pedro Mendoza. Tel: 3004567890. Vive ...  \n",
       "4  Cliente: María López. Tel: 3209988776. Vive en...  "
      ]
     },
     "execution_count": 11,
     "metadata": {},
     "output_type": "execute_result"
    }
   ],
   "source": [
    "import unicodedata\n",
    "def normalize_unicode(text):\n",
    "    if not isinstance(text, str):\n",
    "        return text\n",
    "    try:\n",
    "        return text.encode('latin1').decode('utf-8')\n",
    "    except:\n",
    "        return text\n",
    "    \n",
    "df['texto'] = df['texto'].apply(normalize_unicode)\n",
    "\n",
    "df.head()"
   ]
  }
 ],
 "metadata": {
  "kernelspec": {
   "display_name": "Python 3",
   "language": "python",
   "name": "python3"
  },
  "language_info": {
   "codemirror_mode": {
    "name": "ipython",
    "version": 3
   },
   "file_extension": ".py",
   "mimetype": "text/x-python",
   "name": "python",
   "nbconvert_exporter": "python",
   "pygments_lexer": "ipython3",
   "version": "3.12.0"
  }
 },
 "nbformat": 4,
 "nbformat_minor": 5
}
