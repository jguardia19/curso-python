{
 "cells": [
  {
   "cell_type": "code",
   "execution_count": 1,
   "id": "4a7e3a8d",
   "metadata": {},
   "outputs": [],
   "source": [
    "import pandas as pd"
   ]
  },
  {
   "cell_type": "code",
   "execution_count": null,
   "id": "38b15839",
   "metadata": {},
   "outputs": [],
   "source": [
    "edades = [22, 32, 43, 58, 17, 19, 34, 29, 47, 55]"
   ]
  },
  {
   "cell_type": "code",
   "execution_count": 4,
   "id": "656fa1fb",
   "metadata": {},
   "outputs": [
    {
     "data": {
      "text/plain": [
       "[22, 32, 43, 58, 17, 19, 34, 29, 47, 55]"
      ]
     },
     "execution_count": 4,
     "metadata": {},
     "output_type": "execute_result"
    }
   ],
   "source": [
    "edades"
   ]
  },
  {
   "cell_type": "code",
   "execution_count": 8,
   "id": "5b9f5ebf",
   "metadata": {},
   "outputs": [],
   "source": [
    "series = pd.Series(edades)"
   ]
  },
  {
   "cell_type": "code",
   "execution_count": 9,
   "id": "fcd26ed8",
   "metadata": {},
   "outputs": [
    {
     "data": {
      "text/plain": [
       "0    22\n",
       "1    32\n",
       "2    43\n",
       "3    58\n",
       "4    17\n",
       "5    19\n",
       "6    34\n",
       "7    29\n",
       "8    47\n",
       "9    55\n",
       "dtype: int64"
      ]
     },
     "execution_count": 9,
     "metadata": {},
     "output_type": "execute_result"
    }
   ],
   "source": [
    "series"
   ]
  },
  {
   "cell_type": "code",
   "execution_count": 11,
   "id": "ba00711a",
   "metadata": {},
   "outputs": [
    {
     "data": {
      "text/plain": [
       "0    22\n",
       "1    32\n",
       "2    43\n",
       "3    58\n",
       "4    17\n",
       "dtype: int64"
      ]
     },
     "execution_count": 11,
     "metadata": {},
     "output_type": "execute_result"
    }
   ],
   "source": [
    "series.head()"
   ]
  },
  {
   "cell_type": "code",
   "execution_count": 12,
   "id": "6bcb97f5",
   "metadata": {},
   "outputs": [
    {
     "data": {
      "text/plain": [
       "7    29\n",
       "8    47\n",
       "9    55\n",
       "dtype: int64"
      ]
     },
     "execution_count": 12,
     "metadata": {},
     "output_type": "execute_result"
    }
   ],
   "source": [
    "series.tail(3)"
   ]
  },
  {
   "cell_type": "markdown",
   "id": "516e3ba4",
   "metadata": {},
   "source": [
    "Obtener el valor minimo de la serie "
   ]
  },
  {
   "cell_type": "code",
   "execution_count": 14,
   "id": "2fa67870",
   "metadata": {},
   "outputs": [
    {
     "data": {
      "text/plain": [
       "0    22\n",
       "1    32\n",
       "2    43\n",
       "3    58\n",
       "4    17\n",
       "5    19\n",
       "6    34\n",
       "7    29\n",
       "8    47\n",
       "9    55\n",
       "dtype: int64"
      ]
     },
     "execution_count": 14,
     "metadata": {},
     "output_type": "execute_result"
    }
   ],
   "source": [
    "series"
   ]
  },
  {
   "cell_type": "code",
   "execution_count": 15,
   "id": "8da8d8a2",
   "metadata": {},
   "outputs": [
    {
     "data": {
      "text/plain": [
       "np.int64(17)"
      ]
     },
     "execution_count": 15,
     "metadata": {},
     "output_type": "execute_result"
    }
   ],
   "source": [
    "series.min()"
   ]
  },
  {
   "cell_type": "code",
   "execution_count": 17,
   "id": "a8389ca0",
   "metadata": {},
   "outputs": [
    {
     "data": {
      "text/plain": [
       "np.int64(58)"
      ]
     },
     "execution_count": 17,
     "metadata": {},
     "output_type": "execute_result"
    }
   ],
   "source": [
    "series.max()"
   ]
  },
  {
   "cell_type": "markdown",
   "id": "6eba7d5f",
   "metadata": {},
   "source": [
    "obtener el promedio"
   ]
  },
  {
   "cell_type": "code",
   "execution_count": 18,
   "id": "7ea13e5c",
   "metadata": {},
   "outputs": [
    {
     "data": {
      "text/plain": [
       "np.float64(35.6)"
      ]
     },
     "execution_count": 18,
     "metadata": {},
     "output_type": "execute_result"
    }
   ],
   "source": [
    "series.mean()"
   ]
  },
  {
   "cell_type": "markdown",
   "id": "f1a60e40",
   "metadata": {},
   "source": [
    "Obtener el valor de la segunda posicion "
   ]
  },
  {
   "cell_type": "code",
   "execution_count": 19,
   "id": "8b446f38",
   "metadata": {},
   "outputs": [
    {
     "data": {
      "text/plain": [
       "np.int64(32)"
      ]
     },
     "execution_count": 19,
     "metadata": {},
     "output_type": "execute_result"
    }
   ],
   "source": [
    "series[1]"
   ]
  },
  {
   "cell_type": "code",
   "execution_count": 20,
   "id": "fd466951",
   "metadata": {},
   "outputs": [
    {
     "data": {
      "text/plain": [
       "np.int64(43)"
      ]
     },
     "execution_count": 20,
     "metadata": {},
     "output_type": "execute_result"
    }
   ],
   "source": [
    "series.get(2)"
   ]
  },
  {
   "cell_type": "markdown",
   "id": "fe0ca8e0",
   "metadata": {},
   "source": [
    "Obtener registro segun una condicion"
   ]
  },
  {
   "cell_type": "code",
   "execution_count": 22,
   "id": "ae75ffb4",
   "metadata": {},
   "outputs": [
    {
     "data": {
      "text/plain": [
       "0    22\n",
       "dtype: int64"
      ]
     },
     "execution_count": 22,
     "metadata": {},
     "output_type": "execute_result"
    }
   ],
   "source": [
    "series[series==22]"
   ]
  },
  {
   "cell_type": "markdown",
   "id": "55bb1849",
   "metadata": {},
   "source": [
    "Crear una segunda serie "
   ]
  },
  {
   "cell_type": "code",
   "execution_count": 25,
   "id": "4f45ca51",
   "metadata": {},
   "outputs": [],
   "source": [
    "edades2=[23,15,12,25,20,50,31,2]"
   ]
  },
  {
   "cell_type": "code",
   "execution_count": 26,
   "id": "f6e1f07d",
   "metadata": {},
   "outputs": [],
   "source": [
    "series2=pd.Series(edades2)"
   ]
  },
  {
   "cell_type": "code",
   "execution_count": 27,
   "id": "fae97beb",
   "metadata": {},
   "outputs": [
    {
     "data": {
      "text/plain": [
       "0    23\n",
       "1    15\n",
       "2    12\n",
       "3    25\n",
       "4    20\n",
       "5    50\n",
       "6    31\n",
       "7     2\n",
       "dtype: int64"
      ]
     },
     "execution_count": 27,
     "metadata": {},
     "output_type": "execute_result"
    }
   ],
   "source": [
    "series2"
   ]
  },
  {
   "cell_type": "code",
   "execution_count": 28,
   "id": "3dc0d765",
   "metadata": {},
   "outputs": [
    {
     "data": {
      "text/plain": [
       "0    45.0\n",
       "1    47.0\n",
       "2    55.0\n",
       "3    83.0\n",
       "4    37.0\n",
       "5    69.0\n",
       "6    65.0\n",
       "7    31.0\n",
       "8     NaN\n",
       "9     NaN\n",
       "dtype: float64"
      ]
     },
     "execution_count": 28,
     "metadata": {},
     "output_type": "execute_result"
    }
   ],
   "source": [
    "series + series2"
   ]
  },
  {
   "cell_type": "markdown",
   "id": "2ce3762a",
   "metadata": {},
   "source": [
    "Reeordenar la segunda serie con sort_index()"
   ]
  },
  {
   "cell_type": "code",
   "execution_count": 29,
   "id": "5c3281dd",
   "metadata": {},
   "outputs": [
    {
     "data": {
      "text/plain": [
       "7     2\n",
       "6    31\n",
       "5    50\n",
       "4    20\n",
       "3    25\n",
       "2    12\n",
       "1    15\n",
       "0    23\n",
       "dtype: int64"
      ]
     },
     "execution_count": 29,
     "metadata": {},
     "output_type": "execute_result"
    }
   ],
   "source": [
    "series2 = series2.sort_index(ascending=False)\n",
    "\n",
    "series2"
   ]
  },
  {
   "cell_type": "code",
   "execution_count": 30,
   "id": "70278c53",
   "metadata": {},
   "outputs": [
    {
     "data": {
      "text/plain": [
       "0    17\n",
       "1    27\n",
       "2    38\n",
       "3    53\n",
       "4    12\n",
       "5    14\n",
       "6    29\n",
       "7    24\n",
       "8    42\n",
       "9    50\n",
       "dtype: int64"
      ]
     },
     "execution_count": 30,
     "metadata": {},
     "output_type": "execute_result"
    }
   ],
   "source": [
    "series-5"
   ]
  },
  {
   "cell_type": "code",
   "execution_count": 31,
   "id": "16872010",
   "metadata": {},
   "outputs": [
    {
     "data": {
      "text/plain": [
       "0     484\n",
       "1    1024\n",
       "2    1849\n",
       "3    3364\n",
       "4     289\n",
       "5     361\n",
       "6    1156\n",
       "7     841\n",
       "8    2209\n",
       "9    3025\n",
       "dtype: int64"
      ]
     },
     "execution_count": 31,
     "metadata": {},
     "output_type": "execute_result"
    }
   ],
   "source": [
    "def cuadrado(x):\n",
    "    return x**2\n",
    "\n",
    "series.map(cuadrado)"
   ]
  },
  {
   "cell_type": "markdown",
   "id": "52a38416",
   "metadata": {},
   "source": [
    "DATAFRAMES"
   ]
  },
  {
   "cell_type": "code",
   "execution_count": 32,
   "id": "a3f94372",
   "metadata": {},
   "outputs": [],
   "source": [
    "datos = {\n",
    "    \"nombre\": [\"Argentina\", \"Brasil\", \"Chile\", \"Colombia\", \"Ecuador\", \"Peru\"],\n",
    "    \"capital\": [\"Buenos Aires\", \"Brasilia\", \"Santiago\", \"Bogota\", \"Quito\", \"Lima\"],\n",
    "    \"poblacion\": [4538000, 212600000, 19120000, 50880000, 17640000, 32970000],\n",
    "    \"sup. en km2\": [2780000, 8516000, 756100, 1142000, 283520, 1285220]\n",
    "}"
   ]
  },
  {
   "cell_type": "code",
   "execution_count": 33,
   "id": "76af4695",
   "metadata": {},
   "outputs": [
    {
     "data": {
      "text/html": [
       "<div>\n",
       "<style scoped>\n",
       "    .dataframe tbody tr th:only-of-type {\n",
       "        vertical-align: middle;\n",
       "    }\n",
       "\n",
       "    .dataframe tbody tr th {\n",
       "        vertical-align: top;\n",
       "    }\n",
       "\n",
       "    .dataframe thead th {\n",
       "        text-align: right;\n",
       "    }\n",
       "</style>\n",
       "<table border=\"1\" class=\"dataframe\">\n",
       "  <thead>\n",
       "    <tr style=\"text-align: right;\">\n",
       "      <th></th>\n",
       "      <th>nombre</th>\n",
       "      <th>capital</th>\n",
       "      <th>poblacion</th>\n",
       "      <th>sup. en km2</th>\n",
       "    </tr>\n",
       "  </thead>\n",
       "  <tbody>\n",
       "    <tr>\n",
       "      <th>0</th>\n",
       "      <td>Argentina</td>\n",
       "      <td>Buenos Aires</td>\n",
       "      <td>4538000</td>\n",
       "      <td>2780000</td>\n",
       "    </tr>\n",
       "    <tr>\n",
       "      <th>1</th>\n",
       "      <td>Brasil</td>\n",
       "      <td>Brasilia</td>\n",
       "      <td>212600000</td>\n",
       "      <td>8516000</td>\n",
       "    </tr>\n",
       "    <tr>\n",
       "      <th>2</th>\n",
       "      <td>Chile</td>\n",
       "      <td>Santiago</td>\n",
       "      <td>19120000</td>\n",
       "      <td>756100</td>\n",
       "    </tr>\n",
       "    <tr>\n",
       "      <th>3</th>\n",
       "      <td>Colombia</td>\n",
       "      <td>Bogota</td>\n",
       "      <td>50880000</td>\n",
       "      <td>1142000</td>\n",
       "    </tr>\n",
       "    <tr>\n",
       "      <th>4</th>\n",
       "      <td>Ecuador</td>\n",
       "      <td>Quito</td>\n",
       "      <td>17640000</td>\n",
       "      <td>283520</td>\n",
       "    </tr>\n",
       "    <tr>\n",
       "      <th>5</th>\n",
       "      <td>Peru</td>\n",
       "      <td>Lima</td>\n",
       "      <td>32970000</td>\n",
       "      <td>1285220</td>\n",
       "    </tr>\n",
       "  </tbody>\n",
       "</table>\n",
       "</div>"
      ],
      "text/plain": [
       "      nombre       capital  poblacion  sup. en km2\n",
       "0  Argentina  Buenos Aires    4538000      2780000\n",
       "1     Brasil      Brasilia  212600000      8516000\n",
       "2      Chile      Santiago   19120000       756100\n",
       "3   Colombia        Bogota   50880000      1142000\n",
       "4    Ecuador         Quito   17640000       283520\n",
       "5       Peru          Lima   32970000      1285220"
      ]
     },
     "execution_count": 33,
     "metadata": {},
     "output_type": "execute_result"
    }
   ],
   "source": [
    "paises = pd.DataFrame(datos)\n",
    "paises"
   ]
  },
  {
   "cell_type": "code",
   "execution_count": 34,
   "id": "f7c20e4d",
   "metadata": {},
   "outputs": [
    {
     "data": {
      "text/html": [
       "<div>\n",
       "<style scoped>\n",
       "    .dataframe tbody tr th:only-of-type {\n",
       "        vertical-align: middle;\n",
       "    }\n",
       "\n",
       "    .dataframe tbody tr th {\n",
       "        vertical-align: top;\n",
       "    }\n",
       "\n",
       "    .dataframe thead th {\n",
       "        text-align: right;\n",
       "    }\n",
       "</style>\n",
       "<table border=\"1\" class=\"dataframe\">\n",
       "  <thead>\n",
       "    <tr style=\"text-align: right;\">\n",
       "      <th></th>\n",
       "      <th>nombre</th>\n",
       "      <th>capital</th>\n",
       "      <th>poblacion</th>\n",
       "      <th>sup. en km2</th>\n",
       "    </tr>\n",
       "  </thead>\n",
       "  <tbody>\n",
       "    <tr>\n",
       "      <th>0</th>\n",
       "      <td>Argentina</td>\n",
       "      <td>Buenos Aires</td>\n",
       "      <td>4538000</td>\n",
       "      <td>2780000</td>\n",
       "    </tr>\n",
       "    <tr>\n",
       "      <th>1</th>\n",
       "      <td>Brasil</td>\n",
       "      <td>Brasilia</td>\n",
       "      <td>212600000</td>\n",
       "      <td>8516000</td>\n",
       "    </tr>\n",
       "    <tr>\n",
       "      <th>2</th>\n",
       "      <td>Chile</td>\n",
       "      <td>Santiago</td>\n",
       "      <td>19120000</td>\n",
       "      <td>756100</td>\n",
       "    </tr>\n",
       "    <tr>\n",
       "      <th>3</th>\n",
       "      <td>Colombia</td>\n",
       "      <td>Bogota</td>\n",
       "      <td>50880000</td>\n",
       "      <td>1142000</td>\n",
       "    </tr>\n",
       "    <tr>\n",
       "      <th>4</th>\n",
       "      <td>Ecuador</td>\n",
       "      <td>Quito</td>\n",
       "      <td>17640000</td>\n",
       "      <td>283520</td>\n",
       "    </tr>\n",
       "  </tbody>\n",
       "</table>\n",
       "</div>"
      ],
      "text/plain": [
       "      nombre       capital  poblacion  sup. en km2\n",
       "0  Argentina  Buenos Aires    4538000      2780000\n",
       "1     Brasil      Brasilia  212600000      8516000\n",
       "2      Chile      Santiago   19120000       756100\n",
       "3   Colombia        Bogota   50880000      1142000\n",
       "4    Ecuador         Quito   17640000       283520"
      ]
     },
     "execution_count": 34,
     "metadata": {},
     "output_type": "execute_result"
    }
   ],
   "source": [
    "paises.head()"
   ]
  },
  {
   "cell_type": "code",
   "execution_count": 36,
   "id": "f3bca5be",
   "metadata": {},
   "outputs": [
    {
     "data": {
      "text/html": [
       "<div>\n",
       "<style scoped>\n",
       "    .dataframe tbody tr th:only-of-type {\n",
       "        vertical-align: middle;\n",
       "    }\n",
       "\n",
       "    .dataframe tbody tr th {\n",
       "        vertical-align: top;\n",
       "    }\n",
       "\n",
       "    .dataframe thead th {\n",
       "        text-align: right;\n",
       "    }\n",
       "</style>\n",
       "<table border=\"1\" class=\"dataframe\">\n",
       "  <thead>\n",
       "    <tr style=\"text-align: right;\">\n",
       "      <th></th>\n",
       "      <th>nombre</th>\n",
       "      <th>capital</th>\n",
       "      <th>poblacion</th>\n",
       "      <th>sup. en km2</th>\n",
       "    </tr>\n",
       "  </thead>\n",
       "  <tbody>\n",
       "    <tr>\n",
       "      <th>3</th>\n",
       "      <td>Colombia</td>\n",
       "      <td>Bogota</td>\n",
       "      <td>50880000</td>\n",
       "      <td>1142000</td>\n",
       "    </tr>\n",
       "    <tr>\n",
       "      <th>4</th>\n",
       "      <td>Ecuador</td>\n",
       "      <td>Quito</td>\n",
       "      <td>17640000</td>\n",
       "      <td>283520</td>\n",
       "    </tr>\n",
       "    <tr>\n",
       "      <th>5</th>\n",
       "      <td>Peru</td>\n",
       "      <td>Lima</td>\n",
       "      <td>32970000</td>\n",
       "      <td>1285220</td>\n",
       "    </tr>\n",
       "  </tbody>\n",
       "</table>\n",
       "</div>"
      ],
      "text/plain": [
       "     nombre capital  poblacion  sup. en km2\n",
       "3  Colombia  Bogota   50880000      1142000\n",
       "4   Ecuador   Quito   17640000       283520\n",
       "5      Peru    Lima   32970000      1285220"
      ]
     },
     "execution_count": 36,
     "metadata": {},
     "output_type": "execute_result"
    }
   ],
   "source": [
    "paises.tail(3)"
   ]
  },
  {
   "cell_type": "code",
   "execution_count": 42,
   "id": "ed10db30",
   "metadata": {},
   "outputs": [
    {
     "data": {
      "text/html": [
       "<div>\n",
       "<style scoped>\n",
       "    .dataframe tbody tr th:only-of-type {\n",
       "        vertical-align: middle;\n",
       "    }\n",
       "\n",
       "    .dataframe tbody tr th {\n",
       "        vertical-align: top;\n",
       "    }\n",
       "\n",
       "    .dataframe thead th {\n",
       "        text-align: right;\n",
       "    }\n",
       "</style>\n",
       "<table border=\"1\" class=\"dataframe\">\n",
       "  <thead>\n",
       "    <tr style=\"text-align: right;\">\n",
       "      <th></th>\n",
       "      <th>nombre</th>\n",
       "      <th>capital</th>\n",
       "      <th>poblacion</th>\n",
       "      <th>sup. en km2</th>\n",
       "    </tr>\n",
       "  </thead>\n",
       "  <tbody>\n",
       "    <tr>\n",
       "      <th>1</th>\n",
       "      <td>Brasil</td>\n",
       "      <td>Brasilia</td>\n",
       "      <td>212600000</td>\n",
       "      <td>8516000</td>\n",
       "    </tr>\n",
       "    <tr>\n",
       "      <th>2</th>\n",
       "      <td>Chile</td>\n",
       "      <td>Santiago</td>\n",
       "      <td>19120000</td>\n",
       "      <td>756100</td>\n",
       "    </tr>\n",
       "    <tr>\n",
       "      <th>3</th>\n",
       "      <td>Colombia</td>\n",
       "      <td>Bogota</td>\n",
       "      <td>50880000</td>\n",
       "      <td>1142000</td>\n",
       "    </tr>\n",
       "  </tbody>\n",
       "</table>\n",
       "</div>"
      ],
      "text/plain": [
       "     nombre   capital  poblacion  sup. en km2\n",
       "1    Brasil  Brasilia  212600000      8516000\n",
       "2     Chile  Santiago   19120000       756100\n",
       "3  Colombia    Bogota   50880000      1142000"
      ]
     },
     "execution_count": 42,
     "metadata": {},
     "output_type": "execute_result"
    }
   ],
   "source": [
    "paises[1:4]"
   ]
  },
  {
   "cell_type": "code",
   "execution_count": 37,
   "id": "585a2829",
   "metadata": {},
   "outputs": [
    {
     "data": {
      "text/html": [
       "<div>\n",
       "<style scoped>\n",
       "    .dataframe tbody tr th:only-of-type {\n",
       "        vertical-align: middle;\n",
       "    }\n",
       "\n",
       "    .dataframe tbody tr th {\n",
       "        vertical-align: top;\n",
       "    }\n",
       "\n",
       "    .dataframe thead th {\n",
       "        text-align: right;\n",
       "    }\n",
       "</style>\n",
       "<table border=\"1\" class=\"dataframe\">\n",
       "  <thead>\n",
       "    <tr style=\"text-align: right;\">\n",
       "      <th></th>\n",
       "      <th>nombre</th>\n",
       "      <th>poblacion</th>\n",
       "    </tr>\n",
       "  </thead>\n",
       "  <tbody>\n",
       "    <tr>\n",
       "      <th>0</th>\n",
       "      <td>Argentina</td>\n",
       "      <td>4538000</td>\n",
       "    </tr>\n",
       "    <tr>\n",
       "      <th>1</th>\n",
       "      <td>Brasil</td>\n",
       "      <td>212600000</td>\n",
       "    </tr>\n",
       "    <tr>\n",
       "      <th>2</th>\n",
       "      <td>Chile</td>\n",
       "      <td>19120000</td>\n",
       "    </tr>\n",
       "    <tr>\n",
       "      <th>3</th>\n",
       "      <td>Colombia</td>\n",
       "      <td>50880000</td>\n",
       "    </tr>\n",
       "    <tr>\n",
       "      <th>4</th>\n",
       "      <td>Ecuador</td>\n",
       "      <td>17640000</td>\n",
       "    </tr>\n",
       "    <tr>\n",
       "      <th>5</th>\n",
       "      <td>Peru</td>\n",
       "      <td>32970000</td>\n",
       "    </tr>\n",
       "  </tbody>\n",
       "</table>\n",
       "</div>"
      ],
      "text/plain": [
       "      nombre  poblacion\n",
       "0  Argentina    4538000\n",
       "1     Brasil  212600000\n",
       "2      Chile   19120000\n",
       "3   Colombia   50880000\n",
       "4    Ecuador   17640000\n",
       "5       Peru   32970000"
      ]
     },
     "execution_count": 37,
     "metadata": {},
     "output_type": "execute_result"
    }
   ],
   "source": [
    "paisesFilter = paises[[\"nombre\", \"poblacion\"]]\n",
    "paisesFilter"
   ]
  },
  {
   "cell_type": "code",
   "execution_count": 43,
   "id": "1d6892f9",
   "metadata": {},
   "outputs": [
    {
     "data": {
      "text/html": [
       "<div>\n",
       "<style scoped>\n",
       "    .dataframe tbody tr th:only-of-type {\n",
       "        vertical-align: middle;\n",
       "    }\n",
       "\n",
       "    .dataframe tbody tr th {\n",
       "        vertical-align: top;\n",
       "    }\n",
       "\n",
       "    .dataframe thead th {\n",
       "        text-align: right;\n",
       "    }\n",
       "</style>\n",
       "<table border=\"1\" class=\"dataframe\">\n",
       "  <thead>\n",
       "    <tr style=\"text-align: right;\">\n",
       "      <th></th>\n",
       "      <th>nombre</th>\n",
       "      <th>poblacion</th>\n",
       "    </tr>\n",
       "  </thead>\n",
       "  <tbody>\n",
       "    <tr>\n",
       "      <th>0</th>\n",
       "      <td>Argentina</td>\n",
       "      <td>4538000</td>\n",
       "    </tr>\n",
       "    <tr>\n",
       "      <th>1</th>\n",
       "      <td>Brasil</td>\n",
       "      <td>212600000</td>\n",
       "    </tr>\n",
       "    <tr>\n",
       "      <th>2</th>\n",
       "      <td>Chile</td>\n",
       "      <td>19120000</td>\n",
       "    </tr>\n",
       "    <tr>\n",
       "      <th>3</th>\n",
       "      <td>Colombia</td>\n",
       "      <td>50880000</td>\n",
       "    </tr>\n",
       "    <tr>\n",
       "      <th>4</th>\n",
       "      <td>Ecuador</td>\n",
       "      <td>17640000</td>\n",
       "    </tr>\n",
       "    <tr>\n",
       "      <th>5</th>\n",
       "      <td>Peru</td>\n",
       "      <td>32970000</td>\n",
       "    </tr>\n",
       "  </tbody>\n",
       "</table>\n",
       "</div>"
      ],
      "text/plain": [
       "      nombre  poblacion\n",
       "0  Argentina    4538000\n",
       "1     Brasil  212600000\n",
       "2      Chile   19120000\n",
       "3   Colombia   50880000\n",
       "4    Ecuador   17640000\n",
       "5       Peru   32970000"
      ]
     },
     "execution_count": 43,
     "metadata": {},
     "output_type": "execute_result"
    }
   ],
   "source": [
    "paises2 = pd.DataFrame(datos, columns=[\"nombre\", \"poblacion\"])\n",
    "paises2"
   ]
  },
  {
   "cell_type": "code",
   "execution_count": 45,
   "id": "3577d94e",
   "metadata": {},
   "outputs": [
    {
     "data": {
      "text/html": [
       "<div>\n",
       "<style scoped>\n",
       "    .dataframe tbody tr th:only-of-type {\n",
       "        vertical-align: middle;\n",
       "    }\n",
       "\n",
       "    .dataframe tbody tr th {\n",
       "        vertical-align: top;\n",
       "    }\n",
       "\n",
       "    .dataframe thead th {\n",
       "        text-align: right;\n",
       "    }\n",
       "</style>\n",
       "<table border=\"1\" class=\"dataframe\">\n",
       "  <thead>\n",
       "    <tr style=\"text-align: right;\">\n",
       "      <th></th>\n",
       "      <th>capital</th>\n",
       "      <th>poblacion</th>\n",
       "      <th>sup. en km2</th>\n",
       "    </tr>\n",
       "  </thead>\n",
       "  <tbody>\n",
       "    <tr>\n",
       "      <th>Argentina</th>\n",
       "      <td>Buenos Aires</td>\n",
       "      <td>4538000</td>\n",
       "      <td>2780000</td>\n",
       "    </tr>\n",
       "    <tr>\n",
       "      <th>Brasil</th>\n",
       "      <td>Brasilia</td>\n",
       "      <td>212600000</td>\n",
       "      <td>8516000</td>\n",
       "    </tr>\n",
       "    <tr>\n",
       "      <th>Chile</th>\n",
       "      <td>Santiago</td>\n",
       "      <td>19120000</td>\n",
       "      <td>756100</td>\n",
       "    </tr>\n",
       "    <tr>\n",
       "      <th>Colombia</th>\n",
       "      <td>Bogota</td>\n",
       "      <td>50880000</td>\n",
       "      <td>1142000</td>\n",
       "    </tr>\n",
       "    <tr>\n",
       "      <th>Ecuador</th>\n",
       "      <td>Quito</td>\n",
       "      <td>17640000</td>\n",
       "      <td>283520</td>\n",
       "    </tr>\n",
       "    <tr>\n",
       "      <th>Peru</th>\n",
       "      <td>Lima</td>\n",
       "      <td>32970000</td>\n",
       "      <td>1285220</td>\n",
       "    </tr>\n",
       "  </tbody>\n",
       "</table>\n",
       "</div>"
      ],
      "text/plain": [
       "                capital  poblacion  sup. en km2\n",
       "Argentina  Buenos Aires    4538000      2780000\n",
       "Brasil         Brasilia  212600000      8516000\n",
       "Chile          Santiago   19120000       756100\n",
       "Colombia         Bogota   50880000      1142000\n",
       "Ecuador           Quito   17640000       283520\n",
       "Peru               Lima   32970000      1285220"
      ]
     },
     "execution_count": 45,
     "metadata": {},
     "output_type": "execute_result"
    }
   ],
   "source": [
    "nombrePaises = pd.DataFrame(datos, index=datos[\"nombre\"], columns=[\"capital\",\"poblacion\", \"sup. en km2\"])\n",
    "nombrePaises"
   ]
  },
  {
   "cell_type": "code",
   "execution_count": 48,
   "id": "9cc97cb1",
   "metadata": {},
   "outputs": [
    {
     "data": {
      "text/plain": [
       "capital        Buenos Aires\n",
       "poblacion           4538000\n",
       "sup. en km2         2780000\n",
       "Name: Argentina, dtype: object"
      ]
     },
     "execution_count": 48,
     "metadata": {},
     "output_type": "execute_result"
    }
   ],
   "source": [
    "nombrePaises.loc[\"Argentina\"]"
   ]
  },
  {
   "cell_type": "code",
   "execution_count": 49,
   "id": "f2222554",
   "metadata": {},
   "outputs": [
    {
     "data": {
      "text/html": [
       "<div>\n",
       "<style scoped>\n",
       "    .dataframe tbody tr th:only-of-type {\n",
       "        vertical-align: middle;\n",
       "    }\n",
       "\n",
       "    .dataframe tbody tr th {\n",
       "        vertical-align: top;\n",
       "    }\n",
       "\n",
       "    .dataframe thead th {\n",
       "        text-align: right;\n",
       "    }\n",
       "</style>\n",
       "<table border=\"1\" class=\"dataframe\">\n",
       "  <thead>\n",
       "    <tr style=\"text-align: right;\">\n",
       "      <th></th>\n",
       "      <th>capital</th>\n",
       "      <th>poblacion</th>\n",
       "    </tr>\n",
       "  </thead>\n",
       "  <tbody>\n",
       "    <tr>\n",
       "      <th>Argentina</th>\n",
       "      <td>Buenos Aires</td>\n",
       "      <td>4538000</td>\n",
       "    </tr>\n",
       "    <tr>\n",
       "      <th>Chile</th>\n",
       "      <td>Santiago</td>\n",
       "      <td>19120000</td>\n",
       "    </tr>\n",
       "  </tbody>\n",
       "</table>\n",
       "</div>"
      ],
      "text/plain": [
       "                capital  poblacion\n",
       "Argentina  Buenos Aires    4538000\n",
       "Chile          Santiago   19120000"
      ]
     },
     "execution_count": 49,
     "metadata": {},
     "output_type": "execute_result"
    }
   ],
   "source": [
    "nombrePaises.loc[[\"Argentina\", \"Chile\"], [\"capital\", \"poblacion\"]]"
   ]
  },
  {
   "cell_type": "code",
   "execution_count": 52,
   "id": "aaaae47d",
   "metadata": {},
   "outputs": [
    {
     "data": {
      "text/html": [
       "<div>\n",
       "<style scoped>\n",
       "    .dataframe tbody tr th:only-of-type {\n",
       "        vertical-align: middle;\n",
       "    }\n",
       "\n",
       "    .dataframe tbody tr th {\n",
       "        vertical-align: top;\n",
       "    }\n",
       "\n",
       "    .dataframe thead th {\n",
       "        text-align: right;\n",
       "    }\n",
       "</style>\n",
       "<table border=\"1\" class=\"dataframe\">\n",
       "  <thead>\n",
       "    <tr style=\"text-align: right;\">\n",
       "      <th></th>\n",
       "      <th>capital</th>\n",
       "      <th>poblacion</th>\n",
       "      <th>sup. en km2</th>\n",
       "    </tr>\n",
       "  </thead>\n",
       "  <tbody>\n",
       "    <tr>\n",
       "      <th>Argentina</th>\n",
       "      <td>Buenos Aires</td>\n",
       "      <td>4538000</td>\n",
       "      <td>2780000</td>\n",
       "    </tr>\n",
       "    <tr>\n",
       "      <th>Brasil</th>\n",
       "      <td>Brasilia</td>\n",
       "      <td>212600000</td>\n",
       "      <td>8516000</td>\n",
       "    </tr>\n",
       "    <tr>\n",
       "      <th>Colombia</th>\n",
       "      <td>Bogota</td>\n",
       "      <td>50880000</td>\n",
       "      <td>1142000</td>\n",
       "    </tr>\n",
       "    <tr>\n",
       "      <th>Peru</th>\n",
       "      <td>Lima</td>\n",
       "      <td>32970000</td>\n",
       "      <td>1285220</td>\n",
       "    </tr>\n",
       "  </tbody>\n",
       "</table>\n",
       "</div>"
      ],
      "text/plain": [
       "                capital  poblacion  sup. en km2\n",
       "Argentina  Buenos Aires    4538000      2780000\n",
       "Brasil         Brasilia  212600000      8516000\n",
       "Colombia         Bogota   50880000      1142000\n",
       "Peru               Lima   32970000      1285220"
      ]
     },
     "execution_count": 52,
     "metadata": {},
     "output_type": "execute_result"
    }
   ],
   "source": [
    "nombrePaises.loc[nombrePaises[\"sup. en km2\"] > 1000000]  "
   ]
  },
  {
   "cell_type": "code",
   "execution_count": 54,
   "id": "93ef92f3",
   "metadata": {},
   "outputs": [
    {
     "data": {
      "text/html": [
       "<div>\n",
       "<style scoped>\n",
       "    .dataframe tbody tr th:only-of-type {\n",
       "        vertical-align: middle;\n",
       "    }\n",
       "\n",
       "    .dataframe tbody tr th {\n",
       "        vertical-align: top;\n",
       "    }\n",
       "\n",
       "    .dataframe thead th {\n",
       "        text-align: right;\n",
       "    }\n",
       "</style>\n",
       "<table border=\"1\" class=\"dataframe\">\n",
       "  <thead>\n",
       "    <tr style=\"text-align: right;\">\n",
       "      <th></th>\n",
       "      <th>capital</th>\n",
       "      <th>poblacion</th>\n",
       "      <th>sup. en km2</th>\n",
       "    </tr>\n",
       "  </thead>\n",
       "  <tbody>\n",
       "    <tr>\n",
       "      <th>Argentina</th>\n",
       "      <td>CABA</td>\n",
       "      <td>4538000</td>\n",
       "      <td>2780000</td>\n",
       "    </tr>\n",
       "    <tr>\n",
       "      <th>Brasil</th>\n",
       "      <td>Brasilia</td>\n",
       "      <td>212600000</td>\n",
       "      <td>8516000</td>\n",
       "    </tr>\n",
       "    <tr>\n",
       "      <th>Chile</th>\n",
       "      <td>Santiago</td>\n",
       "      <td>19120000</td>\n",
       "      <td>756100</td>\n",
       "    </tr>\n",
       "    <tr>\n",
       "      <th>Colombia</th>\n",
       "      <td>Bogota</td>\n",
       "      <td>50880000</td>\n",
       "      <td>1142000</td>\n",
       "    </tr>\n",
       "    <tr>\n",
       "      <th>Ecuador</th>\n",
       "      <td>Quito</td>\n",
       "      <td>17640000</td>\n",
       "      <td>283520</td>\n",
       "    </tr>\n",
       "    <tr>\n",
       "      <th>Peru</th>\n",
       "      <td>Lima</td>\n",
       "      <td>32970000</td>\n",
       "      <td>1285220</td>\n",
       "    </tr>\n",
       "  </tbody>\n",
       "</table>\n",
       "</div>"
      ],
      "text/plain": [
       "            capital  poblacion  sup. en km2\n",
       "Argentina      CABA    4538000      2780000\n",
       "Brasil     Brasilia  212600000      8516000\n",
       "Chile      Santiago   19120000       756100\n",
       "Colombia     Bogota   50880000      1142000\n",
       "Ecuador       Quito   17640000       283520\n",
       "Peru           Lima   32970000      1285220"
      ]
     },
     "execution_count": 54,
     "metadata": {},
     "output_type": "execute_result"
    }
   ],
   "source": [
    "nombrePaises.loc[\"Argentina\", \"capital\"] = \"CABA\"\n",
    "nombrePaises"
   ]
  },
  {
   "cell_type": "code",
   "execution_count": 56,
   "id": "116e20d8",
   "metadata": {},
   "outputs": [
    {
     "data": {
      "text/plain": [
       "capital        Santiago\n",
       "poblacion      19120000\n",
       "sup. en km2      756100\n",
       "Name: Chile, dtype: object"
      ]
     },
     "execution_count": 56,
     "metadata": {},
     "output_type": "execute_result"
    }
   ],
   "source": [
    "nombrePaises.iloc[2]"
   ]
  },
  {
   "cell_type": "code",
   "execution_count": 57,
   "id": "5ec11eae",
   "metadata": {},
   "outputs": [
    {
     "data": {
      "text/plain": [
       "Argentina      4538000\n",
       "Brasil       212600000\n",
       "Chile         19120000\n",
       "Colombia      50880000\n",
       "Ecuador       17640000\n",
       "Peru          32970000\n",
       "Name: poblacion, dtype: int64"
      ]
     },
     "execution_count": 57,
     "metadata": {},
     "output_type": "execute_result"
    }
   ],
   "source": [
    "nombrePaises.iloc[:,1]"
   ]
  },
  {
   "cell_type": "code",
   "execution_count": 60,
   "id": "23823be9",
   "metadata": {},
   "outputs": [
    {
     "data": {
      "text/html": [
       "<div>\n",
       "<style scoped>\n",
       "    .dataframe tbody tr th:only-of-type {\n",
       "        vertical-align: middle;\n",
       "    }\n",
       "\n",
       "    .dataframe tbody tr th {\n",
       "        vertical-align: top;\n",
       "    }\n",
       "\n",
       "    .dataframe thead th {\n",
       "        text-align: right;\n",
       "    }\n",
       "</style>\n",
       "<table border=\"1\" class=\"dataframe\">\n",
       "  <thead>\n",
       "    <tr style=\"text-align: right;\">\n",
       "      <th></th>\n",
       "      <th>poblacion</th>\n",
       "      <th>sup. en km2</th>\n",
       "    </tr>\n",
       "  </thead>\n",
       "  <tbody>\n",
       "    <tr>\n",
       "      <th>Chile</th>\n",
       "      <td>19120000</td>\n",
       "      <td>756100</td>\n",
       "    </tr>\n",
       "    <tr>\n",
       "      <th>Colombia</th>\n",
       "      <td>50880000</td>\n",
       "      <td>1142000</td>\n",
       "    </tr>\n",
       "  </tbody>\n",
       "</table>\n",
       "</div>"
      ],
      "text/plain": [
       "          poblacion  sup. en km2\n",
       "Chile      19120000       756100\n",
       "Colombia   50880000      1142000"
      ]
     },
     "execution_count": 60,
     "metadata": {},
     "output_type": "execute_result"
    }
   ],
   "source": [
    "nombrePaises.iloc[[2,3], [1,2]]"
   ]
  },
  {
   "cell_type": "code",
   "execution_count": 61,
   "id": "3bb1bb48",
   "metadata": {},
   "outputs": [
    {
     "data": {
      "text/plain": [
       "Index(['capital', 'poblacion', 'sup. en km2'], dtype='object')"
      ]
     },
     "execution_count": 61,
     "metadata": {},
     "output_type": "execute_result"
    }
   ],
   "source": [
    "nombrePaises.columns"
   ]
  },
  {
   "cell_type": "code",
   "execution_count": 62,
   "id": "41d34914",
   "metadata": {},
   "outputs": [
    {
     "data": {
      "text/plain": [
       "Argentina      4538000\n",
       "Brasil       212600000\n",
       "Chile         19120000\n",
       "Colombia      50880000\n",
       "Ecuador       17640000\n",
       "Peru          32970000\n",
       "Name: poblacion, dtype: int64"
      ]
     },
     "execution_count": 62,
     "metadata": {},
     "output_type": "execute_result"
    }
   ],
   "source": [
    "nombrePaises.poblacion"
   ]
  },
  {
   "cell_type": "code",
   "execution_count": 63,
   "id": "39c30337",
   "metadata": {},
   "outputs": [
    {
     "data": {
      "text/plain": [
       "array([  4538000, 212600000,  19120000,  50880000,  17640000,  32970000])"
      ]
     },
     "execution_count": 63,
     "metadata": {},
     "output_type": "execute_result"
    }
   ],
   "source": [
    "nombrePaises.poblacion.values"
   ]
  },
  {
   "cell_type": "code",
   "execution_count": 64,
   "id": "cf41e058",
   "metadata": {},
   "outputs": [
    {
     "data": {
      "text/plain": [
       "'poblacion'"
      ]
     },
     "execution_count": 64,
     "metadata": {},
     "output_type": "execute_result"
    }
   ],
   "source": [
    "nombrePaises.poblacion.name"
   ]
  },
  {
   "cell_type": "code",
   "execution_count": 65,
   "id": "0658738a",
   "metadata": {},
   "outputs": [
    {
     "data": {
      "text/plain": [
       "np.int64(4538000)"
      ]
     },
     "execution_count": 65,
     "metadata": {},
     "output_type": "execute_result"
    }
   ],
   "source": [
    "nombrePaises.poblacion.min()"
   ]
  },
  {
   "cell_type": "code",
   "execution_count": 66,
   "id": "8286c033",
   "metadata": {},
   "outputs": [
    {
     "data": {
      "text/plain": [
       "np.float64(78178779.0814532)"
      ]
     },
     "execution_count": 66,
     "metadata": {},
     "output_type": "execute_result"
    }
   ],
   "source": [
    "nombrePaises.poblacion.max()\n",
    "nombrePaises.poblacion.std()"
   ]
  },
  {
   "cell_type": "code",
   "execution_count": 67,
   "id": "b5675ead",
   "metadata": {},
   "outputs": [
    {
     "data": {
      "text/html": [
       "<div>\n",
       "<style scoped>\n",
       "    .dataframe tbody tr th:only-of-type {\n",
       "        vertical-align: middle;\n",
       "    }\n",
       "\n",
       "    .dataframe tbody tr th {\n",
       "        vertical-align: top;\n",
       "    }\n",
       "\n",
       "    .dataframe thead th {\n",
       "        text-align: right;\n",
       "    }\n",
       "</style>\n",
       "<table border=\"1\" class=\"dataframe\">\n",
       "  <thead>\n",
       "    <tr style=\"text-align: right;\">\n",
       "      <th></th>\n",
       "      <th>capital</th>\n",
       "      <th>poblacion</th>\n",
       "    </tr>\n",
       "  </thead>\n",
       "  <tbody>\n",
       "    <tr>\n",
       "      <th>Argentina</th>\n",
       "      <td>CABA</td>\n",
       "      <td>4538000</td>\n",
       "    </tr>\n",
       "    <tr>\n",
       "      <th>Brasil</th>\n",
       "      <td>Brasilia</td>\n",
       "      <td>212600000</td>\n",
       "    </tr>\n",
       "    <tr>\n",
       "      <th>Chile</th>\n",
       "      <td>Santiago</td>\n",
       "      <td>19120000</td>\n",
       "    </tr>\n",
       "    <tr>\n",
       "      <th>Colombia</th>\n",
       "      <td>Bogota</td>\n",
       "      <td>50880000</td>\n",
       "    </tr>\n",
       "    <tr>\n",
       "      <th>Ecuador</th>\n",
       "      <td>Quito</td>\n",
       "      <td>17640000</td>\n",
       "    </tr>\n",
       "    <tr>\n",
       "      <th>Peru</th>\n",
       "      <td>Lima</td>\n",
       "      <td>32970000</td>\n",
       "    </tr>\n",
       "  </tbody>\n",
       "</table>\n",
       "</div>"
      ],
      "text/plain": [
       "            capital  poblacion\n",
       "Argentina      CABA    4538000\n",
       "Brasil     Brasilia  212600000\n",
       "Chile      Santiago   19120000\n",
       "Colombia     Bogota   50880000\n",
       "Ecuador       Quito   17640000\n",
       "Peru           Lima   32970000"
      ]
     },
     "execution_count": 67,
     "metadata": {},
     "output_type": "execute_result"
    }
   ],
   "source": [
    "nombrePaises[[\"capital\", \"poblacion\"]]"
   ]
  },
  {
   "cell_type": "code",
   "execution_count": 69,
   "id": "3e0bba8e",
   "metadata": {},
   "outputs": [
    {
     "data": {
      "text/html": [
       "<div>\n",
       "<style scoped>\n",
       "    .dataframe tbody tr th:only-of-type {\n",
       "        vertical-align: middle;\n",
       "    }\n",
       "\n",
       "    .dataframe tbody tr th {\n",
       "        vertical-align: top;\n",
       "    }\n",
       "\n",
       "    .dataframe thead th {\n",
       "        text-align: right;\n",
       "    }\n",
       "</style>\n",
       "<table border=\"1\" class=\"dataframe\">\n",
       "  <thead>\n",
       "    <tr style=\"text-align: right;\">\n",
       "      <th></th>\n",
       "      <th>capital</th>\n",
       "      <th>poblacion</th>\n",
       "      <th>sup. en km2</th>\n",
       "    </tr>\n",
       "  </thead>\n",
       "  <tbody>\n",
       "    <tr>\n",
       "      <th>Brasil</th>\n",
       "      <td>Brasilia</td>\n",
       "      <td>212600000</td>\n",
       "      <td>8516000</td>\n",
       "    </tr>\n",
       "    <tr>\n",
       "      <th>Chile</th>\n",
       "      <td>Santiago</td>\n",
       "      <td>19120000</td>\n",
       "      <td>756100</td>\n",
       "    </tr>\n",
       "    <tr>\n",
       "      <th>Colombia</th>\n",
       "      <td>Bogota</td>\n",
       "      <td>50880000</td>\n",
       "      <td>1142000</td>\n",
       "    </tr>\n",
       "    <tr>\n",
       "      <th>Ecuador</th>\n",
       "      <td>Quito</td>\n",
       "      <td>17640000</td>\n",
       "      <td>283520</td>\n",
       "    </tr>\n",
       "    <tr>\n",
       "      <th>Peru</th>\n",
       "      <td>Lima</td>\n",
       "      <td>32970000</td>\n",
       "      <td>1285220</td>\n",
       "    </tr>\n",
       "  </tbody>\n",
       "</table>\n",
       "</div>"
      ],
      "text/plain": [
       "           capital  poblacion  sup. en km2\n",
       "Brasil    Brasilia  212600000      8516000\n",
       "Chile     Santiago   19120000       756100\n",
       "Colombia    Bogota   50880000      1142000\n",
       "Ecuador      Quito   17640000       283520\n",
       "Peru          Lima   32970000      1285220"
      ]
     },
     "execution_count": 69,
     "metadata": {},
     "output_type": "execute_result"
    }
   ],
   "source": [
    "nombrePaises.loc[nombrePaises.poblacion > 5000000] "
   ]
  },
  {
   "cell_type": "code",
   "execution_count": 71,
   "id": "ee601d50",
   "metadata": {},
   "outputs": [
    {
     "data": {
      "text/html": [
       "<div>\n",
       "<style scoped>\n",
       "    .dataframe tbody tr th:only-of-type {\n",
       "        vertical-align: middle;\n",
       "    }\n",
       "\n",
       "    .dataframe tbody tr th {\n",
       "        vertical-align: top;\n",
       "    }\n",
       "\n",
       "    .dataframe thead th {\n",
       "        text-align: right;\n",
       "    }\n",
       "</style>\n",
       "<table border=\"1\" class=\"dataframe\">\n",
       "  <thead>\n",
       "    <tr style=\"text-align: right;\">\n",
       "      <th></th>\n",
       "      <th>capital</th>\n",
       "      <th>poblacion</th>\n",
       "      <th>sup. en km2</th>\n",
       "      <th>Millones de Habitantes</th>\n",
       "    </tr>\n",
       "  </thead>\n",
       "  <tbody>\n",
       "    <tr>\n",
       "      <th>Argentina</th>\n",
       "      <td>CABA</td>\n",
       "      <td>4538000</td>\n",
       "      <td>2780000</td>\n",
       "      <td>4.538</td>\n",
       "    </tr>\n",
       "    <tr>\n",
       "      <th>Brasil</th>\n",
       "      <td>Brasilia</td>\n",
       "      <td>212600000</td>\n",
       "      <td>8516000</td>\n",
       "      <td>212.600</td>\n",
       "    </tr>\n",
       "    <tr>\n",
       "      <th>Chile</th>\n",
       "      <td>Santiago</td>\n",
       "      <td>19120000</td>\n",
       "      <td>756100</td>\n",
       "      <td>19.120</td>\n",
       "    </tr>\n",
       "    <tr>\n",
       "      <th>Colombia</th>\n",
       "      <td>Bogota</td>\n",
       "      <td>50880000</td>\n",
       "      <td>1142000</td>\n",
       "      <td>50.880</td>\n",
       "    </tr>\n",
       "    <tr>\n",
       "      <th>Ecuador</th>\n",
       "      <td>Quito</td>\n",
       "      <td>17640000</td>\n",
       "      <td>283520</td>\n",
       "      <td>17.640</td>\n",
       "    </tr>\n",
       "    <tr>\n",
       "      <th>Peru</th>\n",
       "      <td>Lima</td>\n",
       "      <td>32970000</td>\n",
       "      <td>1285220</td>\n",
       "      <td>32.970</td>\n",
       "    </tr>\n",
       "  </tbody>\n",
       "</table>\n",
       "</div>"
      ],
      "text/plain": [
       "            capital  poblacion  sup. en km2  Millones de Habitantes\n",
       "Argentina      CABA    4538000      2780000                   4.538\n",
       "Brasil     Brasilia  212600000      8516000                 212.600\n",
       "Chile      Santiago   19120000       756100                  19.120\n",
       "Colombia     Bogota   50880000      1142000                  50.880\n",
       "Ecuador       Quito   17640000       283520                  17.640\n",
       "Peru           Lima   32970000      1285220                  32.970"
      ]
     },
     "execution_count": 71,
     "metadata": {},
     "output_type": "execute_result"
    }
   ],
   "source": [
    "nombrePaises[\"Millones de Habitantes\"] = nombrePaises.poblacion / 1000000\n",
    "nombrePaises"
   ]
  }
 ],
 "metadata": {
  "kernelspec": {
   "display_name": "Python 3",
   "language": "python",
   "name": "python3"
  },
  "language_info": {
   "codemirror_mode": {
    "name": "ipython",
    "version": 3
   },
   "file_extension": ".py",
   "mimetype": "text/x-python",
   "name": "python",
   "nbconvert_exporter": "python",
   "pygments_lexer": "ipython3",
   "version": "3.12.0"
  }
 },
 "nbformat": 4,
 "nbformat_minor": 5
}
