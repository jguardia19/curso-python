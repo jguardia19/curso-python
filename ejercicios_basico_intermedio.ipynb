{
 "cells": [
  {
   "cell_type": "markdown",
   "id": "d13fc858",
   "metadata": {},
   "source": [
    "# 📝 Ejercicios de Python (Básico e Intermedio)"
   ]
  },
  {
   "cell_type": "markdown",
   "id": "3a7f8fae",
   "metadata": {},
   "source": [
    "## 🟢 Nivel Básico"
   ]
  },
  {
   "cell_type": "code",
   "execution_count": null,
   "id": "574602fa",
   "metadata": {},
   "outputs": [],
   "source": [
    "# 1. Tipos de datos y operadores"
   ]
  },
  {
   "cell_type": "code",
   "execution_count": null,
   "id": "8ed56d60",
   "metadata": {},
   "outputs": [],
   "source": [
    "# 2. Condicionales"
   ]
  },
  {
   "cell_type": "code",
   "execution_count": null,
   "id": "057b5d3d",
   "metadata": {},
   "outputs": [],
   "source": [
    "# 3. Bucles"
   ]
  },
  {
   "cell_type": "code",
   "execution_count": null,
   "id": "cb57a444",
   "metadata": {},
   "outputs": [],
   "source": [
    "# 4. Listas"
   ]
  },
  {
   "cell_type": "code",
   "execution_count": null,
   "id": "18c272b9",
   "metadata": {},
   "outputs": [],
   "source": [
    "# 5. Funciones"
   ]
  },
  {
   "cell_type": "code",
   "execution_count": null,
   "id": "103d396e",
   "metadata": {},
   "outputs": [],
   "source": [
    "# 6. Diccionarios"
   ]
  },
  {
   "cell_type": "code",
   "execution_count": null,
   "id": "eb1e6d80",
   "metadata": {},
   "outputs": [],
   "source": [
    "# 7. List comprehension"
   ]
  },
  {
   "cell_type": "markdown",
   "id": "6893c1ec",
   "metadata": {},
   "source": [
    "## 🟡 Nivel Intermedio"
   ]
  },
  {
   "cell_type": "code",
   "execution_count": null,
   "id": "4848f962",
   "metadata": {},
   "outputs": [],
   "source": [
    "# 1. Manejo de errores"
   ]
  },
  {
   "cell_type": "code",
   "execution_count": null,
   "id": "859008fa",
   "metadata": {},
   "outputs": [],
   "source": [
    "# 2. Funciones con parámetros opcionales"
   ]
  },
  {
   "cell_type": "code",
   "execution_count": null,
   "id": "016fa6a9",
   "metadata": {},
   "outputs": [],
   "source": [
    "# 3. Funciones lambda"
   ]
  },
  {
   "cell_type": "code",
   "execution_count": null,
   "id": "5013f513",
   "metadata": {},
   "outputs": [],
   "source": [
    "# 4. Clases y objetos"
   ]
  },
  {
   "cell_type": "code",
   "execution_count": null,
   "id": "698f11a0",
   "metadata": {},
   "outputs": [],
   "source": [
    "# 5. Lectura de archivos"
   ]
  },
  {
   "cell_type": "code",
   "execution_count": null,
   "id": "63c4ada7",
   "metadata": {},
   "outputs": [],
   "source": [
    "# 6. map() y filter()"
   ]
  },
  {
   "cell_type": "code",
   "execution_count": null,
   "id": "f1c20066",
   "metadata": {},
   "outputs": [],
   "source": [
    "# 7. Listas anidadas"
   ]
  }
 ],
 "metadata": {},
 "nbformat": 4,
 "nbformat_minor": 5
}