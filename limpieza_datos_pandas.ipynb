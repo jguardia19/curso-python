{
  "cells": [
    {
      "cell_type": "markdown",
      "metadata": {},
      "source": [
        "# 🧼 Limpieza de Datos con Pandas\n",
        "\n",
        "Este notebook muestra cómo limpiar un archivo de datos con errores comunes como nulos, duplicados, tipos incorrectos, y más."
      ]
    },
    {
      "cell_type": "code",
      "execution_count": null,
      "metadata": {},
      "outputs": [],
      "source": [
        "import pandas as pd\n",
        "import numpy as np\n",
        "import matplotlib.pyplot as plt"
      ]
    },
    {
      "cell_type": "markdown",
      "metadata": {},
      "source": [
        "## 1. Crear DataFrame con errores comunes"
      ]
    },
    {
      "cell_type": "code",
      "execution_count": null,
      "metadata": {},
      "outputs": [],
      "source": [
        "data = {\n",
        "    ' Fecha ': ['2023-01-01', '2023-01-02', '2023-01-03', np.nan, '2023-01-05'],\n",
        "    ' Producto ': ['  Manzana', 'Pera ', 'manzana', 'Plátano', 'Uva'],\n",
        "    'Cantidad': [10, 15, None, 5, 12],\n",
        "    'Precio': [1.5, 2.0, 1.5, -1.0, 2.5],\n",
        "    'Cliente': ['Juan', 'María', 'juan', 'Luis', None]\n",
        "}\n",
        "df = pd.DataFrame(data)\n",
        "df"
      ]
    },
    {
      "cell_type": "markdown",
      "metadata": {},
      "source": [
        "## 2. Limpieza paso a paso"
      ]
    },
    {
      "cell_type": "code",
      "execution_count": null,
      "metadata": {},
      "outputs": [],
      "source": [
        "# Renombrar columnas\n",
        "df.columns = df.columns.str.strip().str.lower()\n",
        "\n",
        "# Limpiar texto\n",
        "df['producto'] = df['producto'].str.strip().str.lower()\n",
        "df['cliente'] = df['cliente'].str.strip().str.lower()\n",
        "\n",
        "# Convertir fecha\n",
        "df['fecha'] = pd.to_datetime(df['fecha'], errors='coerce')\n",
        "\n",
        "# Rellenar valores nulos\n",
        "df['cantidad'] = df['cantidad'].fillna(0)\n",
        "df['cliente'] = df['cliente'].fillna('desconocido')\n",
        "\n",
        "# Corregir precios negativos\n",
        "df = df[df['precio'] > 0]\n",
        "\n",
        "# Crear columna total\n",
        "df['total'] = df['cantidad'] * df['precio']\n",
        "\n",
        "df"
      ]
    },
    {
      "cell_type": "markdown",
      "metadata": {},
      "source": [
        "## 3. Agrupación por producto"
      ]
    },
    {
      "cell_type": "code",
      "execution_count": null,
      "metadata": {},
      "outputs": [],
      "source": [
        "resumen = df.groupby('producto').agg({\n",
        "    'cantidad': 'sum',\n",
        "    'total': 'sum'\n",
        "}).sort_values(by='total', ascending=False)\n",
        "resumen"
      ]
    },
    {
      "cell_type": "markdown",
      "metadata": {},
      "source": [
        "## 4. Visualización de productos más vendidos"
      ]
    },
    {
      "cell_type": "code",
      "execution_count": null,
      "metadata": {},
      "outputs": [],
      "source": [
        "resumen['total'].plot(kind='bar', figsize=(8,5), title='Total Vendido por Producto', ylabel='USD', xlabel='Producto', color='skyblue')\n",
        "plt.grid(True)\n",
        "plt.tight_layout()\n",
        "plt.show()"
      ]
    }
  ],
  "metadata": {
    "kernelspec": {
      "display_name": "Python 3",
      "language": "python",
      "name": "python3"
    },
    "language_info": {
      "name": "python",
      "version": "3.10"
    }
  },
  "nbformat": 4,
  "nbformat_minor": 5
}