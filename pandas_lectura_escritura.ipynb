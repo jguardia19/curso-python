{
 "cells": [
  {
   "cell_type": "markdown",
   "id": "c74fc1ca",
   "metadata": {},
   "source": [
    "# 📦 Manipulación de Archivos con Pandas"
   ]
  },
  {
   "cell_type": "markdown",
   "id": "d9045312",
   "metadata": {},
   "source": [
    "Este notebook muestra cómo leer y escribir archivos en distintos formatos con `pandas`."
   ]
  },
  {
   "cell_type": "markdown",
   "id": "49bcd0d0",
   "metadata": {},
   "source": [
    "## 📄 CSV"
   ]
  },
  {
   "cell_type": "code",
   "execution_count": null,
   "id": "6299be78",
   "metadata": {},
   "outputs": [],
   "source": [
    "\n",
    "import pandas as pd\n",
    "\n",
    "df = pd.DataFrame({\n",
    "    \"nombre\": [\"Ana\", \"Luis\", \"Carlos\"],\n",
    "    \"edad\": [22, 35, 40]\n",
    "})\n",
    "\n",
    "# Guardar como CSV\n",
    "df.to_csv(\"datos.csv\", index=False)\n",
    "\n",
    "# Leer CSV\n",
    "df_csv = pd.read_csv(\"datos.csv\")\n",
    "print(df_csv)\n"
   ]
  },
  {
   "cell_type": "markdown",
   "id": "f248e1d7",
   "metadata": {},
   "source": [
    "## 📊 Excel"
   ]
  },
  {
   "cell_type": "code",
   "execution_count": null,
   "id": "e8b4b80a",
   "metadata": {},
   "outputs": [],
   "source": [
    "\n",
    "df.to_excel(\"datos.xlsx\", index=False, engine=\"openpyxl\")\n",
    "df_excel = pd.read_excel(\"datos.xlsx\", engine=\"openpyxl\")\n",
    "print(df_excel)\n"
   ]
  },
  {
   "cell_type": "markdown",
   "id": "fc689da1",
   "metadata": {},
   "source": [
    "## 🔢 JSON"
   ]
  },
  {
   "cell_type": "code",
   "execution_count": null,
   "id": "01325f66",
   "metadata": {},
   "outputs": [],
   "source": [
    "\n",
    "df.to_json(\"datos.json\", orient=\"records\", lines=True)\n",
    "df_json = pd.read_json(\"datos.json\", lines=True)\n",
    "print(df_json)\n"
   ]
  },
  {
   "cell_type": "markdown",
   "id": "a39293fd",
   "metadata": {},
   "source": [
    "## 🪵 Parquet"
   ]
  },
  {
   "cell_type": "code",
   "execution_count": null,
   "id": "8f8bfca5",
   "metadata": {},
   "outputs": [],
   "source": [
    "\n",
    "df.to_parquet(\"datos.parquet\", engine=\"pyarrow\")\n",
    "df_parquet = pd.read_parquet(\"datos.parquet\", engine=\"pyarrow\")\n",
    "print(df_parquet)\n"
   ]
  },
  {
   "cell_type": "markdown",
   "id": "7643e4cd",
   "metadata": {},
   "source": [
    "## 🐍 Pickle"
   ]
  },
  {
   "cell_type": "code",
   "execution_count": null,
   "id": "f8f85f64",
   "metadata": {},
   "outputs": [],
   "source": [
    "\n",
    "df.to_pickle(\"datos.pkl\")\n",
    "df_pickle = pd.read_pickle(\"datos.pkl\")\n",
    "print(df_pickle)\n"
   ]
  },
  {
   "cell_type": "markdown",
   "id": "c498a184",
   "metadata": {},
   "source": [
    "## 🌐 HTML"
   ]
  },
  {
   "cell_type": "code",
   "execution_count": null,
   "id": "b11e2f49",
   "metadata": {},
   "outputs": [],
   "source": [
    "\n",
    "df.to_html(\"datos.html\")\n",
    "df_html = pd.read_html(\"datos.html\")[0]\n",
    "print(df_html)\n"
   ]
  },
  {
   "cell_type": "markdown",
   "id": "59c125b1",
   "metadata": {},
   "source": [
    "## 🐘 SQL"
   ]
  },
  {
   "cell_type": "code",
   "execution_count": null,
   "id": "bcef7c48",
   "metadata": {},
   "outputs": [],
   "source": [
    "\n",
    "import sqlite3\n",
    "conn = sqlite3.connect(\"mi_base.db\")\n",
    "df.to_sql(\"usuarios\", conn, if_exists=\"replace\", index=False)\n",
    "\n",
    "df_sql = pd.read_sql(\"SELECT * FROM usuarios\", conn)\n",
    "print(df_sql)\n"
   ]
  }
 ],
 "metadata": {},
 "nbformat": 4,
 "nbformat_minor": 5
}