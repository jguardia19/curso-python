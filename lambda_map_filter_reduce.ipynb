{
 "cells": [
  {
   "cell_type": "markdown",
   "id": "4fd89f59",
   "metadata": {},
   "source": [
    "# 🔧 Funciones Funcionales en Python: lambda, map, filter y reduce"
   ]
  },
  {
   "cell_type": "markdown",
   "id": "787bb31e",
   "metadata": {},
   "source": [
    "## ⚡ lambda"
   ]
  },
  {
   "cell_type": "code",
   "execution_count": 1,
   "id": "d44f408a",
   "metadata": {},
   "outputs": [
    {
     "name": "stdout",
     "output_type": "stream",
     "text": [
      "25\n",
      "7\n"
     ]
    }
   ],
   "source": [
    "\n",
    "# Elevar al cuadrado\n",
    "cuadrado = lambda x: x ** 2\n",
    "print(cuadrado(5))\n",
    "\n",
    "# Sumar dos números\n",
    "suma = lambda a, b: a + b\n",
    "print(suma(3, 4))\n"
   ]
  },
  {
   "cell_type": "markdown",
   "id": "38226964",
   "metadata": {},
   "source": [
    "## 🔁 map()"
   ]
  },
  {
   "cell_type": "code",
   "execution_count": 2,
   "id": "e47f38f7",
   "metadata": {},
   "outputs": [
    {
     "name": "stdout",
     "output_type": "stream",
     "text": [
      "[1, 8, 27, 64, 125]\n",
      "['1', '2', '3', '4', '5']\n"
     ]
    }
   ],
   "source": [
    "\n",
    "numeros = [1, 2, 3, 4, 5]\n",
    "\n",
    "# Elevar al cubo con lambda\n",
    "cubos = list(map(lambda x: x**3, numeros))\n",
    "print(cubos)\n",
    "\n",
    "# Convertir a string\n",
    "textos = list(map(str, numeros))\n",
    "print(textos)\n"
   ]
  },
  {
   "cell_type": "markdown",
   "id": "c5bcad39",
   "metadata": {},
   "source": [
    "## 🔎 filter()"
   ]
  },
  {
   "cell_type": "code",
   "execution_count": null,
   "id": "011747af",
   "metadata": {},
   "outputs": [
    {
     "name": "stdout",
     "output_type": "stream",
     "text": [
      "[2, 4]\n",
      "['ana', 'luis', 'avion']\n"
     ]
    }
   ],
   "source": [
    "\n",
    "# Números pares\n",
    "pares = list(filter(lambda x: x % 2 == 0, numeros))\n",
    "print(pares)\n",
    "\n",
    "# Palabras que empiezan con 'a'\n",
    "palabras = ['ana', 'luis', 'avion', 'barco']\n",
    "empiezan_con_a = list(filter(lambda palabra: palabra.startswith('a'), palabras))\n",
    "print(empiezan_con_a)\n"
   ]
  },
  {
   "cell_type": "markdown",
   "id": "b7c49f81",
   "metadata": {},
   "source": [
    "## ➕ reduce()"
   ]
  },
  {
   "cell_type": "code",
   "execution_count": null,
   "id": "9530e10b",
   "metadata": {},
   "outputs": [],
   "source": [
    "\n",
    "from functools import reduce\n",
    "\n",
    "# Suma total\n",
    "suma_total = reduce(lambda x, y: x + y, numeros)\n",
    "print(suma_total)\n",
    "\n",
    "# Máximo\n",
    "maximo = reduce(lambda x, y: x if x > y else y, numeros)\n",
    "print(maximo)\n"
   ]
  },
  {
   "cell_type": "markdown",
   "id": "e3a1f796",
   "metadata": {},
   "source": [
    "## 🎯 Combinaciones útiles"
   ]
  },
  {
   "cell_type": "code",
   "execution_count": 6,
   "id": "13b32a96",
   "metadata": {},
   "outputs": [
    {
     "name": "stdout",
     "output_type": "stream",
     "text": [
      "[{'nombre': 'Ana', 'edad': 22}, {'nombre': 'Carlos', 'edad': 30}]\n",
      "['Ana', 'Carlos']\n"
     ]
    }
   ],
   "source": [
    "\n",
    "personas = [\n",
    "    {'nombre': 'Ana', 'edad': 22},\n",
    "    {'nombre': 'Luis', 'edad': 17},\n",
    "    {'nombre': 'Carlos', 'edad': 30}\n",
    "]\n",
    "\n",
    "# Mayores de edad\n",
    "mayores = list(filter(lambda p: p['edad'] >= 18, personas))\n",
    "print(mayores)\n",
    "\n",
    "# Nombres de los mayores\n",
    "nombres = list(map(lambda p: p['nombre'], mayores))\n",
    "print(nombres)\n"
   ]
  }
 ],
 "metadata": {
  "kernelspec": {
   "display_name": "Python 3",
   "language": "python",
   "name": "python3"
  },
  "language_info": {
   "codemirror_mode": {
    "name": "ipython",
    "version": 3
   },
   "file_extension": ".py",
   "mimetype": "text/x-python",
   "name": "python",
   "nbconvert_exporter": "python",
   "pygments_lexer": "ipython3",
   "version": "3.12.0"
  }
 },
 "nbformat": 4,
 "nbformat_minor": 5
}
