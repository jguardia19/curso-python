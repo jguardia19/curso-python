{
 "cells": [
  {
   "cell_type": "code",
   "execution_count": null,
   "id": "32d15ad8",
   "metadata": {},
   "outputs": [],
   "source": [
    "import pandas as pd\n"
   ]
  }
 ],
 "metadata": {
  "language_info": {
   "name": "python"
  }
 },
 "nbformat": 4,
 "nbformat_minor": 5
}
