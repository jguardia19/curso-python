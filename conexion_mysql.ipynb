{
 "cells": [
  {
   "cell_type": "markdown",
   "id": "ebf8c4e7",
   "metadata": {},
   "source": [
    "# 🐬 Conexión a MySQL con Python (`mysql-connector-python`)"
   ]
  },
  {
   "cell_type": "markdown",
   "id": "f5672ce3",
   "metadata": {},
   "source": [
    "## 📦 Instalación de librería"
   ]
  },
  {
   "cell_type": "code",
   "execution_count": null,
   "id": "ef66fd69",
   "metadata": {},
   "outputs": [],
   "source": [
    "!pip install mysql-connector-python"
   ]
  },
  {
   "cell_type": "markdown",
   "id": "325c779c",
   "metadata": {},
   "source": [
    "## 🔌 Conexión a la Base de Datos"
   ]
  },
  {
   "cell_type": "code",
   "execution_count": null,
   "id": "a73239df",
   "metadata": {},
   "outputs": [],
   "source": [
    "\n",
    "import mysql.connector\n",
    "\n",
    "# Establecer conexión\n",
    "conexion = mysql.connector.connect(\n",
    "    host=\"localhost\",       # Cambia si es un servidor remoto\n",
    "    user=\"tu_usuario\",      # ← tu usuario MySQL\n",
    "    password=\"tu_contraseña\",  # ← tu contraseña MySQL\n",
    "    database=\"nombre_base\"     # ← nombre de la base de datos\n",
    ")\n",
    "\n",
    "print(\"✅ Conexión establecida\")\n"
   ]
  },
  {
   "cell_type": "markdown",
   "id": "9e3a9305",
   "metadata": {},
   "source": [
    "## 🔍 Consulta a una tabla"
   ]
  },
  {
   "cell_type": "code",
   "execution_count": null,
   "id": "6777d7c1",
   "metadata": {},
   "outputs": [],
   "source": [
    "\n",
    "cursor = conexion.cursor()\n",
    "\n",
    "# Ejecutar una consulta\n",
    "cursor.execute(\"SELECT * FROM tu_tabla LIMIT 5;\")  # ← cambia por tu tabla\n",
    "\n",
    "# Obtener resultados\n",
    "resultados = cursor.fetchall()\n",
    "\n",
    "# Mostrar resultados\n",
    "for fila in resultados:\n",
    "    print(fila)\n",
    "\n",
    "# Cerrar cursor y conexión\n",
    "cursor.close()\n",
    "conexion.close()\n"
   ]
  }
 ],
 "metadata": {},
 "nbformat": 4,
 "nbformat_minor": 5
}