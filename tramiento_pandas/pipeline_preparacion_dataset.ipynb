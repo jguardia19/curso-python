{
  "cells": [
    {
      "cell_type": "markdown",
      "metadata": {},
      "source": [
        "# 🛠️ Pipeline de preparación de datasets (plantilla profesional)\n",
        "\n",
        "Aplica fases estándar para dejar un dataset listo para **ETL/ML/RAG**:\n",
        "1) Exploración y selección de columnas\n",
        "2) Filtrado de contexto, nulos, normalización y duplicados\n",
        "3) Enmascaramiento PII (emails, teléfonos, nombres) + minúsculas\n",
        "4) Chunking de textos largos (>30 palabras)\n",
        "5) Enriquecimiento (métricas útiles)\n",
        "6) Validación y exportación (XLSX/Parquet)\n",
        "\n",
        "> Si no existe `tickets_soporte.xlsx`, se generará uno sintético."
      ]
    },
    {
      "cell_type": "code",
      "metadata": {},
      "execution_count": null,
      "outputs": [],
      "source": [
        "import pandas as pd, numpy as np, re, os, random\n",
        "from pathlib import Path\n",
        "from datetime import datetime, timedelta\n",
        "\n",
        "RAW_XLSX = Path('tickets_soporte.xlsx')\n",
        "CLEAN_PATH_XLSX = Path('tickets_soporte_limpio.xlsx')\n",
        "CLEAN_PATH_PARQUET = Path('tickets_soporte_limpio.parquet')\n",
        "\n",
        "random.seed(42); np.random.seed(42)\n",
        "\n",
        "def ensure_raw_dataset():\n",
        "    if RAW_XLSX.exists():\n",
        "        return pd.read_excel(RAW_XLSX)\n",
        "    # Generar dataset sintético si no existe\n",
        "    N = 5000\n",
        "    nombres = ['Carlos','Ana','Luis','María','Juan','Sofía','Pedro','Lucía','Miguel','Elena','Andrés','Valeria','Diego','Camila','Jorge','Paula','Ricardo','Fernanda','Héctor','Gabriela']\n",
        "    dominios = ['gmail.com','outlook.com','empresa.com','hotmail.com','yahoo.com']\n",
        "    productos = ['router','laptop','impresora','telefono','monitor','mouse','teclado','software crm','licencia antivirus','tablet']\n",
        "    canales = ['email','chat','telefono','web']\n",
        "    categorias = ['soporte','producto','marketing','otro']\n",
        "    idiomas = ['es','en','pt']\n",
        "    issues = ['no enciende','no conecta a wifi','pantalla azul','no imprime','error de licencia','lento al iniciar','se reinicia solo','no carga la bateria','no reconoce usb','temperatura alta']\n",
        "    infos = ['precio y disponibilidad','caracteristicas tecnicas','compatibilidad con software','opciones de garantia','manual de usuario','accesorios disponibles']\n",
        "    def random_phone():\n",
        "        fmts = [lambda: f'+52 55 {random.randint(1000,9999)} {random.randint(1000,9999)}',\n",
        "                lambda: f'55{random.randint(10000000,99999999)}',\n",
        "                lambda: f'(55) {random.randint(1000,9999)}-{random.randint(1000,9999)}',\n",
        "                lambda: f'{random.randint(6000000000,7999999999)}']\n",
        "        return random.choice(fmts)()\n",
        "    def random_email(nombre):\n",
        "        base=(nombre.lower().replace('í','i').replace('á','a').replace('é','e').replace('ó','o').replace('ú','u'))\n",
        "        return f\"{base}{random.randint(1,999)}@{random.choice(dominios)}\"\n",
        "    def random_date(start_days=200):\n",
        "        start = datetime.now() - timedelta(days=start_days)\n",
        "        return (start + timedelta(days=random.randint(0,start_days))).date().isoformat()\n",
        "    def build_text(nombre, email, phone, producto, categoria, idioma):\n",
        "        if categoria=='soporte':\n",
        "            if idioma=='es':\n",
        "                t = random.choice([\n",
        "                    f\"Hola, soy {nombre}. Tengo un problema con el {producto}: {random.choice(issues)}. Mi correo es {email} y mi telefono es {phone}. Pueden ayudarme por favor?\",\n",
        "                    f\"Buenas, {nombre} por aqui. El {producto} presenta {random.choice(issues)}. Contacto: {email} {phone}. Gracias!\",\n",
        "                    f\"{nombre} reporta fallo en {producto}. Detalle: {random.choice(issues)}. Email {email} tel {phone}.\"\n",
        "                ])\n",
        "            elif idioma=='en':\n",
        "                t = f\"Hi, I'm {nombre}. I have an issue with the {producto}: {random.choice(issues)}. Email {email}, phone {phone}.\"\n",
        "            else:\n",
        "                t = f\"Olá, sou {nombre}. Tenho um problema com o {producto}: {random.choice(issues)}. Email {email}, telefone {phone}.\"\n",
        "        elif categoria=='producto':\n",
        "            if idioma=='es':\n",
        "                t = f\"Quiero informacion sobre {producto}: {random.choice(infos)}. Mi correo {email} y tel {phone}.\"\n",
        "            elif idioma=='en':\n",
        "                t = f\"I want information about {producto}: {random.choice(infos)}. Contact {email} {phone}.\"\n",
        "            else:\n",
        "                t = f\"Quero informacoes sobre {producto}: {random.choice(infos)}. Contato {email} {phone}.\"\n",
        "        elif categoria=='marketing':\n",
        "            t = \"Suscribete a nuestro boletin y recibe grandes ofertas!!!   ### %%    \"\n",
        "        else:\n",
        "            t = \"Lorem ipsum dolor sit amet, consectetur adipiscing elit. ### fuera de contexto\"\n",
        "        return re.sub(r\"\\s{2,}\", \"  \", t)\n",
        "    rows=[]\n",
        "    for i in range(N):\n",
        "        nombre = random.choice(nombres)\n",
        "        email = random_email(nombre)\n",
        "        phone = random_phone()\n",
        "        idioma = random.choices(population=idiomas, weights=[0.78,0.15,0.07], k=1)[0]\n",
        "        categoria = random.choices(population=categorias, weights=[0.6,0.2,0.15,0.05], k=1)[0]\n",
        "        producto = random.choice(productos)\n",
        "        canal = random.choice(['email','chat','telefono','web'])\n",
        "        asunto = random.choice(['Consulta','Incidencia','Reclamo','Seguimiento','Soporte urgente','Info producto','Solicitud','Error sistema'])\n",
        "        texto = build_text(nombre, email, phone, producto, categoria, idioma)\n",
        "        if random.random()<0.02: producto=np.nan\n",
        "        if random.random()<0.02: phone=np.nan\n",
        "        if random.random()<0.01: email=np.nan\n",
        "        if random.random()<0.01: texto=np.nan\n",
        "        rows.append({'id':i+1,'fecha':random_date(),'canal':canal,'nombre':nombre,'email':email,'telefono':phone,'idioma':idioma,'categoria':categoria,'producto':producto,'asunto':asunto,'texto':texto,'prioridad':random.choice(['alta','media','baja']),'estado':random.choice(['abierto','en_proceso','resuelto'])})\n",
        "    df_raw = pd.DataFrame(rows)\n",
        "    df_raw.to_excel(RAW_XLSX, index=False)\n",
        "    return df_raw\n",
        "\n",
        "df_raw = ensure_raw_dataset()\n",
        "df_raw.head(3)"
      ]
    },
    {
      "cell_type": "markdown",
      "metadata": {},
      "source": [
        "## 1) Exploración y selección de columnas"
      ]
    },
    {
      "cell_type": "code",
      "metadata": {},
      "execution_count": null,
      "outputs": [],
      "source": [
        "print('Info:')\n",
        "print(df_raw.info())\n",
        "print('\\nNulos (%):')\n",
        "print((df_raw.isna().mean()*100).round(2).sort_values(ascending=False))\n",
        "relevantes=['id','fecha','idioma','categoria','producto','canal','asunto','texto','prioridad','estado']\n",
        "df=df_raw[relevantes].copy()\n",
        "df.head(5)"
      ]
    },
    {
      "cell_type": "markdown",
      "metadata": {},
      "source": [
        "## 2) Filtrado de contexto, nulos, normalización y duplicados"
      ]
    },
    {
      "cell_type": "code",
      "metadata": {},
      "execution_count": null,
      "outputs": [],
      "source": [
        "start_rows=len(df)\n",
        "df=df[df['categoria'].isin(['soporte','producto']) & (df['idioma']=='es')]\n",
        "df=df[~df['texto'].isna()]\n",
        "df=df[df['texto'].str.strip().str.len()>0]\n",
        "for col in ['producto','canal','prioridad','asunto','estado']:\n",
        "    df[col]=df[col].fillna('desconocido')\n",
        "def normalize_spaces_punct(s: pd.Series)->pd.Series:\n",
        "    s=s.str.replace(r'\\s+',' ',regex=True)\n",
        "    s=s.str.replace(r'\\s+([,.;:!?])',r'\\1',regex=True)\n",
        "    s=s.str.replace(r'([,.;:!?])(\\S)',r'\\1 \\2',regex=True)\n",
        "    return s.str.strip()\n",
        "df['texto']=normalize_spaces_punct(df['texto'])\n",
        "before=len(df)\n",
        "df=df.drop_duplicates(subset=['texto','producto','asunto'],keep='first')\n",
        "print({'filas_iniciales':start_rows,'tras_filtrado':before,'tras_duplicados':len(df)})\n",
        "df.head(5)"
      ]
    },
    {
      "cell_type": "markdown",
      "metadata": {},
      "source": [
        "## 3) Enmascaramiento PII + minúsculas (con etiquetas preservadas)"
      ]
    },
    {
      "cell_type": "code",
      "metadata": {},
      "execution_count": null,
      "outputs": [],
      "source": [
        "email_pat=re.compile(r'[a-zA-Z0-9_.+-]+@[a-zA-Z0-9-]+\\.[a-zA-Z0-9.\\-]+')\n",
        "phone_pat=re.compile(r'(\\+?\\d[\\d\\s\\-()]{7,}\\d)')\n",
        "nombres=['Carlos','Ana','Luis','María','Juan','Sofía','Pedro','Lucía','Miguel','Elena','Andrés','Valeria','Diego','Camila','Jorge','Paula','Ricardo','Fernanda','Héctor','Gabriela']\n",
        "def mask_pii(text):\n",
        "    if not isinstance(text,str): return text\n",
        "    text=email_pat.sub('[EMAIL]',text)\n",
        "    text=phone_pat.sub('[TEL]',text)\n",
        "    for n in nombres:\n",
        "        text=re.sub(rf'\\b{re.escape(n)}\\b','[NOMBRE]',text)\n",
        "        text=re.sub(rf'\\b{re.escape(n.lower())}\\b','[NOMBRE]',text)\n",
        "    text=re.sub(r'\\b(soy|mi nombre es)\\s+[A-ZÁÉÍÓÚÑ][a-záéíóúñ]+',r'\\1 [NOMBRE]',text,flags=re.IGNORECASE)\n",
        "    return text\n",
        "df['texto']=df['texto'].apply(mask_pii)\n",
        "def lowercase_preserve_tags(s: pd.Series)->pd.Series:\n",
        "    s_low=s.str.lower()\n",
        "    s_low=s_low.str.replace(r'\\[email\\]','[EMAIL]',regex=True)\n",
        "    s_low=s_low.str.replace(r'\\[tel\\]','[TEL]',regex=True)\n",
        "    s_low=s_low.str.replace(r'\\[nombre\\]','[NOMBRE]',regex=True)\n",
        "    return s_low\n",
        "for col in ['texto','producto','asunto','canal','prioridad','estado']:\n",
        "    df[col]=lowercase_preserve_tags(df[col].astype(str))\n",
        "df.sample(5,random_state=7)"
      ]
    },
    {
      "cell_type": "markdown",
      "metadata": {},
      "source": [
        "## 4) Chunking (>30 palabras → 2 filas)"
      ]
    },
    {
      "cell_type": "code",
      "metadata": {},
      "execution_count": null,
      "outputs": [],
      "source": [
        "def split_long_text(text,max_words=30):\n",
        "    if not isinstance(text,str): return [text]\n",
        "    words=text.split()\n",
        "    if len(words)<=max_words: return [text]\n",
        "    mid=len(words)//2\n",
        "    return [' '.join(words[:mid]),' '.join(words[mid:])]\n",
        "df=df.assign(text_chunks=df['texto'].apply(split_long_text)).explode('text_chunks').drop(columns=['texto']).rename(columns={'text_chunks':'texto'}).reset_index(drop=True)\n",
        "df.head(5)"
      ]
    },
    {
      "cell_type": "markdown",
      "metadata": {},
      "source": [
        "## 5) Enriquecimiento de métricas"
      ]
    },
    {
      "cell_type": "code",
      "metadata": {},
      "execution_count": null,
      "outputs": [],
      "source": [
        "df['len_palabras']=df['texto'].fillna('').apply(lambda s: len(str(s).split()))\n",
        "df['len_chars']=df['texto'].fillna('').apply(lambda s: len(str(s)))\n",
        "df.head(5)"
      ]
    },
    {
      "cell_type": "markdown",
      "metadata": {},
      "source": [
        "## 6) Validación y exportación"
      ]
    },
    {
      "cell_type": "code",
      "metadata": {},
      "execution_count": null,
      "outputs": [],
      "source": [
        "assert set(['id','fecha','idioma','categoria','producto','canal','asunto','texto']).issubset(df.columns)\n",
        "print('Filas finales:',len(df))\n",
        "df.to_excel(CLEAN_PATH_XLSX, index=False)\n",
        "try:\n",
        "    df.to_parquet(CLEAN_PATH_PARQUET, index=False)\n",
        "    print('Guardado Parquet:', str(CLEAN_PATH_PARQUET))\n",
        "except Exception as e:\n",
        "    print('Parquet no disponible en este entorno:', e)\n",
        "str(CLEAN_PATH_XLSX)"
      ]
    }
  ],
  "metadata": {
    "kernelspec": {
      "display_name": "Python 3",
      "language": "python",
      "name": "python3"
    },
    "language_info": {
      "name": "python",
      "version": "3.10"
    }
  },
  "nbformat": 4,
  "nbformat_minor": 5
}