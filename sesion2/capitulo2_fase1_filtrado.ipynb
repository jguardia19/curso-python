{
 "cells": [
  {
   "cell_type": "markdown",
   "id": "b1be3c16",
   "metadata": {},
   "source": [
    "\n",
    "# Capítulo 2 · Fase 1 — Filtrado de contexto e idioma\n",
    "\n",
    "Este notebook carga un dataset de tickets/consultas y aplica el primer filtro:\n",
    "- **Contexto**: mantener solo `tipo` ∈ {`soporte`, `producto`}\n",
    "- **Idioma**: mantener solo `idioma = 'es'`\n",
    "\n",
    "Archivos de entrada/salida:\n",
    "- Entrada: `tickets_soporte.xlsx`\n",
    "- Salida (Fase 1): `dataset_fase1.xlsx`\n"
   ]
  },
  {
   "cell_type": "code",
   "execution_count": null,
   "id": "0357eae4",
   "metadata": {},
   "outputs": [],
   "source": [
    "\n",
    "import pandas as pd\n",
    "from pathlib import Path\n",
    "\n",
    "in_path = Path('tickets_soporte.xlsx')  # asegúrate de tenerlo en la misma carpeta\n",
    "df = pd.read_excel(in_path)\n",
    "\n",
    "print('Shape crudo:', df.shape)\n",
    "display(df.head())\n",
    "print('\\nDistribución por tipo:')\n",
    "display(df['tipo'].value_counts())\n",
    "print('\\nDistribución por idioma:')\n",
    "display(df['idioma'].value_counts())\n"
   ]
  },
  {
   "cell_type": "code",
   "execution_count": null,
   "id": "68b17c48",
   "metadata": {},
   "outputs": [],
   "source": [
    "\n",
    "# Reglas de Fase 1\n",
    "allowed_types = {'soporte', 'producto'}\n",
    "allowed_langs = {'es'}\n",
    "\n",
    "before = len(df)\n",
    "df_f1 = df[df['tipo'].isin(allowed_types) & df['idioma'].isin(allowed_langs)].copy()\n",
    "removed = before - len(df_f1)\n",
    "\n",
    "print(f'Registros iniciales: {before}')\n",
    "print(f'Registros eliminados (fuera de contexto/idioma): {removed}')\n",
    "print(f'Registros tras Fase 1: {len(df_f1)}')\n",
    "display(df_f1.head())\n"
   ]
  },
  {
   "cell_type": "code",
   "execution_count": null,
   "id": "8e33f77f",
   "metadata": {},
   "outputs": [],
   "source": [
    "\n",
    "out_path = Path('dataset_fase1.xlsx')\n",
    "df_f1.to_excel(out_path, index=False)\n",
    "print('Guardado:', out_path.resolve())\n"
   ]
  },
  {
   "cell_type": "markdown",
   "id": "dc06449d",
   "metadata": {},
   "source": [
    "\n",
    "> **Siguiente (Fase 2 – Limpieza):** eliminar filas sin texto, rellenar no críticos con `\"desconocido\"` y quitar duplicados.\n"
   ]
  },
  {
   "cell_type": "code",
   "execution_count": null,
   "id": "1611bf70",
   "metadata": {},
   "outputs": [],
   "source": [
    "# Fase 2 - Limpieza de datos\n",
    "# En esta fase, se realizarán las siguientes tareas:\n",
    "# 1. Eliminar filas sin texto.\n",
    "# 2. Rellenar valores no críticos con \"desconocido\".\n",
    "# 3. Eliminar duplicados."
   ]
  },
  {
   "cell_type": "code",
   "execution_count": null,
   "id": "403c8646",
   "metadata": {},
   "outputs": [],
   "source": [
    "# Eliminar filas sin texto\n",
    "df_f2 = df_f1.dropna(subset=['texto']).copy()\n",
    "\n",
    "# Rellenar valores no críticos con \"desconocido\"\n",
    "columns_to_fill = ['canal', 'plataforma', 'versión']\n",
    "df_f2[columns_to_fill] = df_f2[columns_to_fill].fillna('desconocido')\n",
    "\n",
    "# Eliminar duplicados\n",
    "before_dupes = len(df_f2)\n",
    "df_f2 = df_f2.drop_duplicates().copy()\n",
    "removed_dupes = before_dupes - len(df_f2)\n",
    "\n",
    "print(f'Registros iniciales (Fase 1): {len(df_f1)}')\n",
    "print(f'Registros eliminados (sin texto): {len(df_f1) - len(df_f2) + removed_dupes}')\n",
    "print(f'Registros eliminados (duplicados): {removed_dupes}')\n",
    "print(f'Registros tras Fase 2: {len(df_f2)}')\n",
    "display(df_f2.head())"
   ]
  },
  {
   "cell_type": "code",
   "execution_count": null,
   "id": "c247849d",
   "metadata": {},
   "outputs": [],
   "source": [
    "# No se rellenan campos no críticos ya que se hizo en la fase anterior (Fase 2)\n",
    "# Mostrar los primeros registros para verificar\n",
    "display(df_f2.head())"
   ]
  },
  {
   "cell_type": "code",
   "execution_count": null,
   "id": "c4954004",
   "metadata": {},
   "outputs": [],
   "source": [
    "display(df_f2.head())"
   ]
  },
  {
   "cell_type": "code",
   "execution_count": null,
   "id": "5ea9637c",
   "metadata": {
    "vscode": {
     "languageId": "ruby"
    }
   },
   "outputs": [],
   "source": [
    "# Rellenar campos con un valor por defecto en pandas\n",
    "# Identificar las columnas a rellenar y el valor por defecto\n",
    "columns_to_fill = ['prioridad', 'urgencia', 'impacto']\n",
    "default_value = 'desconocido'\n",
    "\n",
    "# Rellenar los valores NaN en las columnas especificadas con el valor por defecto\n",
    "df_f2[columns_to_fill] = df_f2[columns_to_fill].fillna(default_value)\n",
    "\n",
    "# Mostrar los primeros registros para verificar\n",
    "display(df_f2.head())"
   ]
  },
  {
   "cell_type": "code",
   "execution_count": null,
   "id": "f44c59c5",
   "metadata": {},
   "outputs": [],
   "source": [
    "# Eliminar registros duplicados en pandas\n",
    "# Eliminar duplicados\n",
    "before_dupes = len(df_f2)\n",
    "df_f3 = df_f2.drop_duplicates().copy()\n",
    "removed_dupes = before_dupes - len(df_f3)\n",
    "\n",
    "print(f'Registros iniciales (Fase 2): {len(df_f2)}')\n",
    "print(f'Registros eliminados (duplicados): {removed_dupes}')\n",
    "print(f'Registros tras eliminar duplicados: {len(df_f3)}')\n",
    "display(df_f3.head())"
   ]
  },
  {
   "cell_type": "code",
   "execution_count": null,
   "id": "e2e9c69c",
   "metadata": {},
   "outputs": [],
   "source": [
    "# Convertir todo el texto a minúsculas\n",
    "df_f3['texto'] = df_f3['texto'].str.lower()\n",
    "\n",
    "# Mostrar los primeros registros para verificar\n",
    "display(df_f3.head())"
   ]
  },
  {
   "cell_type": "code",
   "execution_count": null,
   "id": "02a41951",
   "metadata": {},
   "outputs": [],
   "source": [
    "import re\n",
    "\n",
    "# Estandarizar espacios y puntuación\n",
    "def standardize_text(text):\n",
    "    text = re.sub(r'\\s+', ' ', text)  # Eliminar espacios duplicados\n",
    "    text = re.sub(r'[^\\w\\s]', '', text)  # Eliminar signos de puntuación\n",
    "    return text.strip()\n",
    "\n",
    "df_f3['texto'] = df_f3['texto'].apply(standardize_text)\n",
    "\n",
    "# Mostrar los primeros registros para verificar\n",
    "display(df_f3.head())"
   ]
  },
  {
   "cell_type": "code",
   "execution_count": null,
   "id": "caaa86de",
   "metadata": {
    "vscode": {
     "languageId": "coffeescript"
    }
   },
   "outputs": [],
   "source": [
    "import re\n",
    "\n",
    "def mask_pii(text):\n",
    "    # Mask emails\n",
    "    text = re.sub(r'\\b[A-Za-z0-9._%+-]+@[A-Za-z0-9.-]+\\.[A-Z|a-z]{2,}\\b', '[EMAIL]', text)\n",
    "    # Mask phone numbers (basic pattern, can be improved)\n",
    "    text = re.sub(r'\\b\\d{3}[-\\.\\s]??\\d{3}[-\\.\\s]??\\d{4}\\b', '[TEL]', text)\n",
    "    # Mask names (very basic, will need improvement with a proper NER model)\n",
    "    text = re.sub(r'\\b[A-Z][a-z]+\\s[A-Z][a-z]+\\b', '[NOMBRE]', text)\n",
    "    return text\n",
    "\n",
    "df_f3['texto'] = df_f3['texto'].apply(mask_pii)\n",
    "\n",
    "# Mostrar los primeros registros para verificar\n",
    "display(df_f3.head())"
   ]
  },
  {
   "cell_type": "code",
   "execution_count": null,
   "id": "249b69a3",
   "metadata": {},
   "outputs": [],
   "source": [
    "def split_long_text(text, max_words=30):\n",
    "    words = text.split()\n",
    "    if len(words) > max_words:\n",
    "        # Find a reasonable split point (e.g., a sentence boundary)\n",
    "        split_index = max_words\n",
    "        while split_index > 0 and words[split_index] != '.':\n",
    "            split_index -= 1\n",
    "        if split_index == 0:\n",
    "            split_index = max_words  # If no sentence boundary, just split at max_words\n",
    "\n",
    "        first_part = ' '.join(words[:split_index])\n",
    "        second_part = ' '.join(words[split_index:])\n",
    "        return first_part, second_part\n",
    "    else:\n",
    "        return text, None\n",
    "\n",
    "# Apply the splitting function\n",
    "df_f3['texto_split'] = df_f3['texto'].apply(split_long_text)\n",
    "\n",
    "# Create new rows for the split texts\n",
    "new_rows = []\n",
    "for index, row in df_f3.iterrows():\n",
    "    text1, text2 = row['texto_split']\n",
    "    if text2:\n",
    "        new_row1 = row.copy()\n",
    "        new_row1['texto'] = text1\n",
    "        new_rows.append(new_row1)\n",
    "\n",
    "        new_row2 = row.copy()\n",
    "        new_row2['texto'] = text2\n",
    "        new_rows.append(new_row2)\n",
    "    else:\n",
    "        new_rows.append(row)\n",
    "\n",
    "df_f4 = pd.DataFrame(new_rows)\n",
    "\n",
    "# Mostrar los primeros registros para verificar\n",
    "display(df_f4.head())"
   ]
  }
 ],
 "metadata": {
  "language_info": {
   "name": "python"
  }
 },
 "nbformat": 4,
 "nbformat_minor": 5
}
