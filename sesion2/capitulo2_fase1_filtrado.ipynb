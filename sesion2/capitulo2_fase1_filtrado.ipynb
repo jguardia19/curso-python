{
 "cells": [
  {
   "cell_type": "markdown",
   "id": "b1be3c16",
   "metadata": {},
   "source": [
    "\n",
    "# Capítulo 2 · Fase 1 — Filtrado de contexto e idioma\n",
    "\n",
    "Este notebook carga un dataset de tickets/consultas y aplica el primer filtro:\n",
    "- **Contexto**: mantener solo `tipo` ∈ {`soporte`, `producto`}\n",
    "- **Idioma**: mantener solo `idioma = 'es'`\n",
    "\n",
    "Archivos de entrada/salida:\n",
    "- Entrada: `tickets_soporte.xlsx`\n",
    "- Salida (Fase 1): `dataset_fase1.xlsx`\n"
   ]
  },
  {
   "cell_type": "code",
   "execution_count": null,
   "id": "0357eae4",
   "metadata": {},
   "outputs": [],
   "source": [
    "\n",
    "import pandas as pd\n",
    "from pathlib import Path\n",
    "\n",
    "in_path = Path('tickets_soporte.xlsx')  # asegúrate de tenerlo en la misma carpeta\n",
    "df = pd.read_excel(in_path)\n",
    "\n",
    "print('Shape crudo:', df.shape)\n",
    "display(df.head())\n",
    "print('\\nDistribución por tipo:')\n",
    "display(df['tipo'].value_counts())\n",
    "print('\\nDistribución por idioma:')\n",
    "display(df['idioma'].value_counts())\n"
   ]
  },
  {
   "cell_type": "code",
   "execution_count": null,
   "id": "68b17c48",
   "metadata": {},
   "outputs": [],
   "source": [
    "\n",
    "# Reglas de Fase 1\n",
    "allowed_types = {'soporte', 'producto'}\n",
    "allowed_langs = {'es'}\n",
    "\n",
    "before = len(df)\n",
    "df_f1 = df[df['tipo'].isin(allowed_types) & df['idioma'].isin(allowed_langs)].copy()\n",
    "removed = before - len(df_f1)\n",
    "\n",
    "print(f'Registros iniciales: {before}')\n",
    "print(f'Registros eliminados (fuera de contexto/idioma): {removed}')\n",
    "print(f'Registros tras Fase 1: {len(df_f1)}')\n",
    "display(df_f1.head())\n"
   ]
  },
  {
   "cell_type": "code",
   "execution_count": null,
   "id": "8e33f77f",
   "metadata": {},
   "outputs": [],
   "source": [
    "\n",
    "out_path = Path('dataset_fase1.xlsx')\n",
    "df_f1.to_excel(out_path, index=False)\n",
    "print('Guardado:', out_path.resolve())\n"
   ]
  },
  {
   "cell_type": "markdown",
   "id": "dc06449d",
   "metadata": {},
   "source": [
    "\n",
    "> **Siguiente (Fase 2 – Limpieza):** eliminar filas sin texto, rellenar no críticos con `\"desconocido\"` y quitar duplicados.\n"
   ]
  }
 ],
 "metadata": {},
 "nbformat": 4,
 "nbformat_minor": 5
}
