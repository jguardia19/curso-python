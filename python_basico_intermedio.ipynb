{
 "cells": [
  {
   "cell_type": "markdown",
   "id": "03edf4e6",
   "metadata": {},
   "source": [
    "# 🐍 Python Básico e Intermedio - Teoría y Ejemplos"
   ]
  },
  {
   "cell_type": "markdown",
   "id": "1d5be425",
   "metadata": {},
   "source": [
    "## 📌 Variables y Tipos de Datos"
   ]
  },
  {
   "cell_type": "code",
   "execution_count": null,
   "id": "b009f982",
   "metadata": {},
   "outputs": [],
   "source": [
    "\n",
    "# Entero\n",
    "edad = 30\n",
    "\n",
    "# Flotante\n",
    "altura = 1.75\n",
    "\n",
    "# Cadena de texto\n",
    "nombre = \"Ana\"\n",
    "\n",
    "# Booleano\n",
    "es_mayor = True\n",
    "\n",
    "print(edad, altura, nombre, es_mayor)\n"
   ]
  },
  {
   "cell_type": "markdown",
   "id": "437f0ac4",
   "metadata": {},
   "source": [
    "## 🔢 Operadores"
   ]
  },
  {
   "cell_type": "code",
   "execution_count": null,
   "id": "157594b4",
   "metadata": {},
   "outputs": [],
   "source": [
    "\n",
    "a = 10\n",
    "b = 3\n",
    "\n",
    "print(\"Suma:\", a + b)\n",
    "print(\"Potencia:\", a ** b)\n",
    "print(\"División entera:\", a // b)\n",
    "print(\"Módulo:\", a % b)\n"
   ]
  },
  {
   "cell_type": "markdown",
   "id": "17709c4b",
   "metadata": {},
   "source": [
    "## 🔀 Condicionales"
   ]
  },
  {
   "cell_type": "code",
   "execution_count": null,
   "id": "1f33dc2e",
   "metadata": {},
   "outputs": [],
   "source": [
    "\n",
    "if edad >= 18:\n",
    "    print(\"Mayor de edad\")\n",
    "else:\n",
    "    print(\"Menor de edad\")\n"
   ]
  },
  {
   "cell_type": "markdown",
   "id": "7d170a33",
   "metadata": {},
   "source": [
    "## 🔁 Bucles"
   ]
  },
  {
   "cell_type": "code",
   "execution_count": null,
   "id": "804c659a",
   "metadata": {},
   "outputs": [],
   "source": [
    "\n",
    "for i in range(5):\n",
    "    print(\"Iteración\", i)\n",
    "\n",
    "contador = 0\n",
    "while contador < 3:\n",
    "    print(\"Contador:\", contador)\n",
    "    contador += 1\n"
   ]
  },
  {
   "cell_type": "markdown",
   "id": "76ff3879",
   "metadata": {},
   "source": [
    "## 🧠 Funciones"
   ]
  },
  {
   "cell_type": "code",
   "execution_count": null,
   "id": "4f0539c3",
   "metadata": {},
   "outputs": [],
   "source": [
    "\n",
    "def saludar(nombre):\n",
    "    return f\"Hola, {nombre}\"\n",
    "\n",
    "print(saludar(\"Luis\"))\n"
   ]
  },
  {
   "cell_type": "markdown",
   "id": "68c32b4d",
   "metadata": {},
   "source": [
    "## 📋 Listas"
   ]
  },
  {
   "cell_type": "code",
   "execution_count": null,
   "id": "35c4cd7b",
   "metadata": {},
   "outputs": [],
   "source": [
    "\n",
    "frutas = [\"manzana\", \"banana\", \"naranja\"]\n",
    "frutas.append(\"pera\")\n",
    "frutas.remove(\"banana\")\n",
    "\n",
    "for fruta in frutas:\n",
    "    print(fruta)\n"
   ]
  },
  {
   "cell_type": "markdown",
   "id": "878cc430",
   "metadata": {},
   "source": [
    "## 🧾 Diccionarios"
   ]
  },
  {
   "cell_type": "code",
   "execution_count": null,
   "id": "f0e363ce",
   "metadata": {},
   "outputs": [],
   "source": [
    "\n",
    "persona = {\"nombre\": \"Ana\", \"edad\": 25}\n",
    "persona[\"ciudad\"] = \"Lima\"\n",
    "\n",
    "for clave, valor in persona.items():\n",
    "    print(clave, \":\", valor)\n"
   ]
  },
  {
   "cell_type": "markdown",
   "id": "59afb7eb",
   "metadata": {},
   "source": [
    "## ⚙️ List Comprehension"
   ]
  },
  {
   "cell_type": "code",
   "execution_count": null,
   "id": "c70fd8e0",
   "metadata": {},
   "outputs": [],
   "source": [
    "\n",
    "cuadrados = [x**2 for x in range(10)]\n",
    "print(cuadrados)\n"
   ]
  },
  {
   "cell_type": "markdown",
   "id": "89dc7eb4",
   "metadata": {},
   "source": [
    "## ⚠️ Manejo de Errores"
   ]
  },
  {
   "cell_type": "code",
   "execution_count": null,
   "id": "0580226e",
   "metadata": {},
   "outputs": [],
   "source": [
    "\n",
    "try:\n",
    "    resultado = 10 / 0\n",
    "except ZeroDivisionError:\n",
    "    print(\"No se puede dividir entre cero\")\n"
   ]
  },
  {
   "cell_type": "markdown",
   "id": "9d65a871",
   "metadata": {},
   "source": [
    "## 🧱 Clases y Objetos"
   ]
  },
  {
   "cell_type": "code",
   "execution_count": null,
   "id": "d405ca1b",
   "metadata": {},
   "outputs": [],
   "source": [
    "\n",
    "class Persona:\n",
    "    def __init__(self, nombre, edad):\n",
    "        self.nombre = nombre\n",
    "        self.edad = edad\n",
    "\n",
    "    def saludar(self):\n",
    "        return f\"Hola, soy {self.nombre}\"\n",
    "\n",
    "p = Persona(\"Carlos\", 32)\n",
    "print(p.saludar())\n"
   ]
  }
 ],
 "metadata": {},
 "nbformat": 4,
 "nbformat_minor": 5
}